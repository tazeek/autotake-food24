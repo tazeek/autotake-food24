{
 "cells": [
  {
   "cell_type": "code",
   "execution_count": 1,
   "id": "a350c209-933d-4288-809e-495b906c0d4b",
   "metadata": {},
   "outputs": [],
   "source": [
    "from tqdm import tqdm\n",
    "\n",
    "from User import User\n",
    "from Survey import Survey\n",
    "from Intake import Intake\n",
    "\n",
    "import pandas as pd"
   ]
  },
  {
   "cell_type": "code",
   "execution_count": 2,
   "id": "c119604f-f9f0-4553-93ca-0eb8000421e1",
   "metadata": {},
   "outputs": [],
   "source": [
    "intake24_df = pd.read_csv('files/intake24_survey_file.csv')\n",
    "#print(intake24_df)"
   ]
  },
  {
   "cell_type": "code",
   "execution_count": 3,
   "id": "1a39a523-ae38-4b65-bd71-0090fd376845",
   "metadata": {},
   "outputs": [],
   "source": [
    "def rename_columns(old_name:str, new_name: str, df: pd.DataFrame) -> None:\n",
    "    df.rename(columns = { old_name : new_name }, inplace=True)\n",
    "    return None"
   ]
  },
  {
   "cell_type": "markdown",
   "id": "460a7391-e11e-4dc5-be38-cfb4fe01a84a",
   "metadata": {},
   "source": [
    "# Breakdown (From user to ingredient):\n",
    "\n",
    "The file has many users.\n",
    "\n",
    "Each user has many surveys.\n",
    "\n",
    "Each survey has many meal intake.\n",
    "\n",
    "Each intake consists of many food components.\n",
    "\n",
    "Every food component is marked with a \"Nutrition ID code\"."
   ]
  },
  {
   "cell_type": "code",
   "execution_count": 4,
   "id": "1c129caa-2ef4-4651-8cee-683a011a8441",
   "metadata": {},
   "outputs": [],
   "source": [
    "# Rename the columns (For Intake24)\n",
    "\n",
    "rename_columns('Energy, with dietary fibre', 'energy_with_fibre', intake24_df)\n",
    "rename_columns('Meal name', 'meal_name', intake24_df)\n",
    "rename_columns('Survey ID', 'survey_id', intake24_df)\n",
    "rename_columns('Intake24 food code', 'food_code', intake24_df)\n",
    "rename_columns('User ID', 'user_id', intake24_df)\n",
    "rename_columns('Meal ID', 'meal_id', intake24_df)\n",
    "rename_columns('Nutrient table code', 'heifa_nutrient_id', intake24_df)\n",
    "rename_columns('Portion size (g/ml)', 'portion_size_consumed', intake24_df)"
   ]
  },
  {
   "cell_type": "code",
   "execution_count": 5,
   "id": "8a30459d-ca13-4935-a77e-5adf747331e0",
   "metadata": {},
   "outputs": [],
   "source": [
    "# Structure is like this:\n",
    "# - Map user ID to their respective meal and information\n",
    "# - Map the meal number to the respective ingredients\n",
    "# - Map the ingredients to their respective nutrient code\n",
    "\n",
    "user_dict = {}"
   ]
  },
  {
   "cell_type": "code",
   "execution_count": 6,
   "id": "e6d54e1b-c87e-4631-abae-173d4890413d",
   "metadata": {},
   "outputs": [],
   "source": [
    "def loop_ingredients(food_df: pd.DataFrame) -> dict:\n",
    "\n",
    "    meal_intake = Intake()\n",
    "    meal_intake.add_food_information(food_df)\n",
    "    \n",
    "    return meal_intake\n",
    "\n",
    "def loop_meals(meal_ids_list: list, survey_meals_df: pd.DataFrame) -> None:\n",
    "\n",
    "    survey_info_meals = Survey()\n",
    "    \n",
    "    for meal_id in meal_ids_list:\n",
    "        \n",
    "        food_intake_df = survey_meals_df.query(\"meal_id == @meal_id\")\n",
    "        meal_ingredients = loop_ingredients(food_intake_df)\n",
    "\n",
    "        # To be removed and replaced with OOP\n",
    "        survey_info_meals.add_meal(meal_id, meal_ingredients)\n",
    "\n",
    "    return survey_info_meals"
   ]
  },
  {
   "cell_type": "code",
   "execution_count": 7,
   "id": "574bb74a-8156-4412-88b5-37e23fe2802d",
   "metadata": {},
   "outputs": [
    {
     "name": "stderr",
     "output_type": "stream",
     "text": [
      "100%|███████████| 405/405 [00:09<00:00, 43.20it/s]\n"
     ]
    }
   ],
   "source": [
    "# Step 1: Let's split by the survey ID.\n",
    "\n",
    "# Get the list of survey IDs.\n",
    "survey_ids_list = intake24_df['survey_id'].unique().tolist()\n",
    "\n",
    "# Loop one survey ID at a time and split the Intake24 dataframe accordingly.\n",
    "for survey_id in tqdm(survey_ids_list, ncols=50):\n",
    "\n",
    "    survey_meals_df = intake24_df.query(\"survey_id == @survey_id\")\n",
    "\n",
    "    # Extract the user ID.\n",
    "    # If it exists, extract the object.\n",
    "    # Otherwise, create a new object\n",
    "    user_id = survey_meals_df['user_id'].values[0]\n",
    "    \n",
    "    if user_id not in user_dict:\n",
    "        user_dict[user_id] = User(user_id)\n",
    "\n",
    "    user = user_dict[user_id]\n",
    "    \n",
    "    # Step 2: Split further the Meal ID\n",
    "    meal_ids_list = survey_meals_df['meal_id'].unique().tolist()\n",
    "\n",
    "    # Step 3: Get information of the meals\n",
    "    survey_meals_info = loop_meals(meal_ids_list, survey_meals_df)\n",
    "\n",
    "    # Every meal of the survey will be populated here\n",
    "    user.add_survey(survey_id, survey_meals_info)"
   ]
  },
  {
   "cell_type": "code",
   "execution_count": 8,
   "id": "fb467453-2f4f-4002-8bd4-59741c6e6fcc",
   "metadata": {},
   "outputs": [],
   "source": [
    "for user_id in user_dict.keys():\n",
    "\n",
    "    #print(f\"Printing for User {user_id}\")\n",
    "    user_obj = user_dict[user_id]\n",
    "    #user_obj.print_information()"
   ]
  },
  {
   "cell_type": "markdown",
   "id": "dd5bdb58-1217-4593-947f-15f0b22ffe5c",
   "metadata": {},
   "source": [
    "# HEIFA - Ingredients\n",
    "\n",
    "Every row in the file is a unique ingredient.\n",
    "\n",
    "Every ingredient:\n",
    "- has it's own attributes.\n",
    "- can be mapped to a 8-digit code (for HEIFA Recipe)\n",
    "- is used as a divisor for either energy (kilo joules) or grams (g)"
   ]
  },
  {
   "cell_type": "code",
   "execution_count": null,
   "id": "27dbca61-2f2f-41d8-a4b1-780cab75840a",
   "metadata": {},
   "outputs": [],
   "source": []
  }
 ],
 "metadata": {
  "kernelspec": {
   "display_name": "Python 3 (ipykernel)",
   "language": "python",
   "name": "python3"
  },
  "language_info": {
   "codemirror_mode": {
    "name": "ipython",
    "version": 3
   },
   "file_extension": ".py",
   "mimetype": "text/x-python",
   "name": "python",
   "nbconvert_exporter": "python",
   "pygments_lexer": "ipython3",
   "version": "3.9.17"
  }
 },
 "nbformat": 4,
 "nbformat_minor": 5
}
