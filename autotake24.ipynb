{
 "cells": [
  {
   "cell_type": "code",
   "execution_count": 2,
   "id": "a350c209-933d-4288-809e-495b906c0d4b",
   "metadata": {},
   "outputs": [],
   "source": [
    "import pandas as pd"
   ]
  },
  {
   "cell_type": "code",
   "execution_count": 3,
   "id": "c119604f-f9f0-4553-93ca-0eb8000421e1",
   "metadata": {},
   "outputs": [
    {
     "name": "stdout",
     "output_type": "stream",
     "text": [
      "                                 Survey ID  User ID                Start time  \\\n",
      "0     5d3e72da-a241-4e8e-837b-021accf9a37c        1  2022-08-03T06:55:02.102Z   \n",
      "1     5d3e72da-a241-4e8e-837b-021accf9a37c        1  2022-08-03T06:55:02.102Z   \n",
      "2     5d3e72da-a241-4e8e-837b-021accf9a37c        1  2022-08-03T06:55:02.102Z   \n",
      "3     5d3e72da-a241-4e8e-837b-021accf9a37c        1  2022-08-03T06:55:02.102Z   \n",
      "4     5d3e72da-a241-4e8e-837b-021accf9a37c        1  2022-08-03T06:55:02.102Z   \n",
      "...                                    ...      ...                       ...   \n",
      "5749  4f7e1c91-c883-438a-b1b5-43bf6f0222cc      263  2022-09-23T11:34:28.178Z   \n",
      "5750  4f7e1c91-c883-438a-b1b5-43bf6f0222cc      263  2022-09-23T11:34:28.178Z   \n",
      "5751  4f7e1c91-c883-438a-b1b5-43bf6f0222cc      263  2022-09-23T11:34:28.178Z   \n",
      "5752  4f7e1c91-c883-438a-b1b5-43bf6f0222cc      263  2022-09-23T11:34:28.178Z   \n",
      "5753  4f7e1c91-c883-438a-b1b5-43bf6f0222cc      263  2022-09-23T11:34:28.178Z   \n",
      "\n",
      "               Submission time Time to complete  Meal ID     Meal name  \\\n",
      "0     2022-08-03T07:07:57.835Z           12 min        1     Breakfast   \n",
      "1     2022-08-03T07:07:57.835Z           12 min        1     Breakfast   \n",
      "2     2022-08-03T07:07:57.835Z           12 min        1     Breakfast   \n",
      "3     2022-08-03T07:07:57.835Z           12 min        1     Breakfast   \n",
      "4     2022-08-03T07:07:57.835Z           12 min        2         Lunch   \n",
      "...                        ...              ...      ...           ...   \n",
      "5749  2022-09-23T11:41:24.412Z            6 min        3  Evening meal   \n",
      "5750  2022-09-23T11:41:24.412Z            6 min        3  Evening meal   \n",
      "5751  2022-09-23T11:41:24.412Z            6 min        3  Evening meal   \n",
      "5752  2022-09-23T11:41:24.412Z            6 min        3  Evening meal   \n",
      "5753  2022-09-23T11:41:24.412Z            6 min        3  Evening meal   \n",
      "\n",
      "      Food ID             Search term Intake24 food code  ...  Zinc  \\\n",
      "0           1  associated food prompt               MARG  ...  0.00   \n",
      "1           2                  Toast                WTST  ...  0.53   \n",
      "2           3  associated food prompt               SMLK  ...  0.07   \n",
      "3           4                  Coffee               FLCO  ...  0.02   \n",
      "4           1        Meat sandwiches                SLMI  ...  2.08   \n",
      "...       ...                     ...                ...  ...   ...   \n",
      "5749        1                    fish               TEMP  ...  0.27   \n",
      "5750        2                   chips               FCFO  ...  0.39   \n",
      "5751        3                   bread               GPIZ  ...  0.74   \n",
      "5752        4                   salac               VIDR  ...  0.00   \n",
      "5753        5               pepsi max               MAXC  ...  0.00   \n",
      "\n",
      "     a-Tocopherol (mg) Caffeine Vitamin A Retionol equivelents  Vitamin B12  \\\n",
      "0                  NaN     0.00                         126.17         0.00   \n",
      "1                  NaN     0.00                           0.00         0.05   \n",
      "2                  NaN     0.00                           2.46         0.10   \n",
      "3                  NaN    60.43                           0.00         0.00   \n",
      "4                  NaN     0.00                           8.28         0.98   \n",
      "...                ...      ...                            ...          ...   \n",
      "5749               NaN     0.00                           1.25         0.23   \n",
      "5750               NaN     0.00                           6.37         0.00   \n",
      "5751               NaN      NaN                            NaN         0.00   \n",
      "5752               NaN     0.00                           0.46         0.00   \n",
      "5753               NaN    41.25                           0.00         0.00   \n",
      "\n",
      "      Folate  Folate food, naturally occurring food folates Iodine Selenium  \\\n",
      "0       0.62                                           0.62   0.45     0.08   \n",
      "1     116.10                                           5.94  38.39     6.48   \n",
      "2       3.28                                           3.12   3.74     0.10   \n",
      "3       0.00                                           0.00   1.56     0.78   \n",
      "4       0.00                                           0.00   1.04    13.56   \n",
      "...      ...                                            ...    ...      ...   \n",
      "5749    2.75                                           2.75   6.43    10.40   \n",
      "5750   10.92                                          10.92   0.64     0.64   \n",
      "5751   12.60                                            NaN   8.40     1.05   \n",
      "5752    0.00                                           0.00   0.23     0.23   \n",
      "5753    0.00                                           0.00   6.38     1.88   \n",
      "\n",
      "      Dietary folate equivalents  \n",
      "0                           0.62  \n",
      "1                         189.54  \n",
      "2                           3.28  \n",
      "3                           0.00  \n",
      "4                           0.00  \n",
      "...                          ...  \n",
      "5749                        2.75  \n",
      "5750                       10.92  \n",
      "5751                         NaN  \n",
      "5752                        0.00  \n",
      "5753                        0.00  \n",
      "\n",
      "[5754 rows x 82 columns]\n"
     ]
    }
   ],
   "source": [
    "intake24_df = pd.read_csv('files/intake24_survey_file.csv')\n",
    "print(intake24_df)"
   ]
  },
  {
   "cell_type": "markdown",
   "id": "460a7391-e11e-4dc5-be38-cfb4fe01a84a",
   "metadata": {},
   "source": [
    "# Breakdown (From user to ingredient):\n",
    "\n",
    "The file has many users.\n",
    "\n",
    "Each user has many surveys.\n",
    "\n",
    "Each survey has many meals.\n",
    "\n",
    "Each meal consists of many food components.\n",
    "\n",
    "Every food component is marked with a \"Nutrition ID code\"."
   ]
  },
  {
   "cell_type": "code",
   "execution_count": 43,
   "id": "1c129caa-2ef4-4651-8cee-683a011a8441",
   "metadata": {},
   "outputs": [],
   "source": [
    "def rename_columns(old_name:str, new_name: str, df: pd.DataFrame) -> None:\n",
    "    df.rename(columns = { old_name : new_name }, inplace=True)\n",
    "    return None\n",
    "\n",
    "rename_columns('Survey ID', 'survey_id', intake24_df)\n",
    "rename_columns('Intake24 food code', 'food_code', intake24_df)\n",
    "rename_columns('User ID', 'user_id', intake24_df)\n",
    "rename_columns('Meal ID', 'meal_id', intake24_df)\n",
    "rename_columns('Nutrient table code', 'heifa_nutrient_id', intake24_df)\n",
    "rename_columns('Portion size (g/ml)', 'portion_size_consumed', intake24_df)"
   ]
  },
  {
   "cell_type": "code",
   "execution_count": 40,
   "id": "8a30459d-ca13-4935-a77e-5adf747331e0",
   "metadata": {},
   "outputs": [],
   "source": [
    "# Structure is like this:\n",
    "# - Map user ID to their respective meal and information\n",
    "# - Map the meal number to the respective ingredients\n",
    "# - Map the ingredients to their respective nutrient code\n",
    "\n",
    "user_information = {}"
   ]
  },
  {
   "cell_type": "code",
   "execution_count": 66,
   "id": "e6d54e1b-c87e-4631-abae-173d4890413d",
   "metadata": {},
   "outputs": [],
   "source": [
    "def loop_ingredients(ingredients_df: pd.DataFrame, meal_info_dict: dict) -> dict:\n",
    "\n",
    "    # What do we need:\n",
    "    # - The ID: HEIFA\n",
    "    # - The Intake24 Food Code\n",
    "    # - The portion consumed\n",
    "    columns = ['food_code','portion_size_consumed']\n",
    "    \n",
    "    food_portion_list = ingredients_df[columns].values.tolist()\n",
    "    heifa_list = ingredients_df['heifa_nutrient_id'].values.tolist()\n",
    "\n",
    "    zipped_ingredients = zip(heifa_list, food_portion_list)\n",
    "    \n",
    "    for heifa_id, food_portion_list in zipped_ingredients:\n",
    "        \n",
    "        food_code = food_portion_list[0]\n",
    "        portion_size = food_portion_list[1]\n",
    "        print(f\"{heifa_id} for {food_code} of size {portion_size}g.\\n\\n\")\n",
    "\n",
    "    ...\n",
    "\n",
    "def loop_meals(meal_ids_list: list, survey_meals_df: pd.DataFrame, survey_meals_dict: dict) -> None:\n",
    "    \n",
    "    for meal_id in meal_ids_list:\n",
    "\n",
    "        survey_meals_dict[meal_id] = {}\n",
    "        meal_info_dict = survey_meals_dict[meal_id]\n",
    "        \n",
    "        ingredients_df = survey_meals_df.query(\"meal_id == @meal_id\")\n",
    "        loop_ingredients(ingredients_df, meal_info_dict)\n",
    "        \n",
    "    ..."
   ]
  },
  {
   "cell_type": "code",
   "execution_count": 67,
   "id": "574bb74a-8156-4412-88b5-37e23fe2802d",
   "metadata": {},
   "outputs": [
    {
     "name": "stdout",
     "output_type": "stream",
     "text": [
      "Total number of surveys carried out: 405\n"
     ]
    },
    {
     "ename": "NameError",
     "evalue": "name 'food_portion_size' is not defined",
     "output_type": "error",
     "traceback": [
      "\u001b[1;31m---------------------------------------------------------------------------\u001b[0m",
      "\u001b[1;31mNameError\u001b[0m                                 Traceback (most recent call last)",
      "Cell \u001b[1;32mIn[67], line 26\u001b[0m\n\u001b[0;32m     24\u001b[0m \u001b[38;5;66;03m# Step 2: Split further the Meal ID\u001b[39;00m\n\u001b[0;32m     25\u001b[0m meal_ids_list \u001b[38;5;241m=\u001b[39m survey_meals_df[\u001b[38;5;124m'\u001b[39m\u001b[38;5;124mmeal_id\u001b[39m\u001b[38;5;124m'\u001b[39m]\u001b[38;5;241m.\u001b[39munique()\u001b[38;5;241m.\u001b[39mtolist()\n\u001b[1;32m---> 26\u001b[0m \u001b[43mloop_meals\u001b[49m\u001b[43m(\u001b[49m\u001b[43mmeal_ids_list\u001b[49m\u001b[43m,\u001b[49m\u001b[43m \u001b[49m\u001b[43msurvey_meals_df\u001b[49m\u001b[43m,\u001b[49m\u001b[43m \u001b[49m\u001b[43msurvey_meals_dict\u001b[49m\u001b[43m)\u001b[49m\n\u001b[0;32m     27\u001b[0m \u001b[38;5;28;01mbreak\u001b[39;00m\n",
      "Cell \u001b[1;32mIn[66], line 30\u001b[0m, in \u001b[0;36mloop_meals\u001b[1;34m(meal_ids_list, survey_meals_df, survey_meals_dict)\u001b[0m\n\u001b[0;32m     27\u001b[0m     meal_info_dict \u001b[38;5;241m=\u001b[39m survey_meals_dict[meal_id]\n\u001b[0;32m     29\u001b[0m     ingredients_df \u001b[38;5;241m=\u001b[39m survey_meals_df\u001b[38;5;241m.\u001b[39mquery(\u001b[38;5;124m\"\u001b[39m\u001b[38;5;124mmeal_id == @meal_id\u001b[39m\u001b[38;5;124m\"\u001b[39m)\n\u001b[1;32m---> 30\u001b[0m     \u001b[43mloop_ingredients\u001b[49m\u001b[43m(\u001b[49m\u001b[43mingredients_df\u001b[49m\u001b[43m,\u001b[49m\u001b[43m \u001b[49m\u001b[43mmeal_info_dict\u001b[49m\u001b[43m)\u001b[49m\n\u001b[0;32m     32\u001b[0m \u001b[38;5;241m.\u001b[39m\u001b[38;5;241m.\u001b[39m\u001b[38;5;241m.\u001b[39m\n",
      "Cell \u001b[1;32mIn[66], line 12\u001b[0m, in \u001b[0;36mloop_ingredients\u001b[1;34m(ingredients_df, meal_info_dict)\u001b[0m\n\u001b[0;32m      9\u001b[0m food_portion_list \u001b[38;5;241m=\u001b[39m ingredients_df[columns]\u001b[38;5;241m.\u001b[39mvalues\u001b[38;5;241m.\u001b[39mtolist()\n\u001b[0;32m     10\u001b[0m heifa_list \u001b[38;5;241m=\u001b[39m ingredients_df[\u001b[38;5;124m'\u001b[39m\u001b[38;5;124mheifa_nutrient_id\u001b[39m\u001b[38;5;124m'\u001b[39m]\u001b[38;5;241m.\u001b[39mvalues\u001b[38;5;241m.\u001b[39mtolist()\n\u001b[1;32m---> 12\u001b[0m zipped_ingredients \u001b[38;5;241m=\u001b[39m \u001b[38;5;28mzip\u001b[39m(heifa_list, \u001b[43mfood_portion_size\u001b[49m)\n\u001b[0;32m     14\u001b[0m \u001b[38;5;28;01mfor\u001b[39;00m heifa_id, food_portion_list \u001b[38;5;129;01min\u001b[39;00m zipped_ingredients:\n\u001b[0;32m     16\u001b[0m     food_code \u001b[38;5;241m=\u001b[39m food_portion_list[\u001b[38;5;241m0\u001b[39m]\n",
      "\u001b[1;31mNameError\u001b[0m: name 'food_portion_size' is not defined"
     ]
    }
   ],
   "source": [
    "# Step 1: Let's split by the survey ID.\n",
    "\n",
    "# Get the list of survey IDs.\n",
    "survey_ids_list = intake24_df['survey_id'].unique().tolist()\n",
    "print(f'Total number of surveys carried out: {len(survey_ids_list)}')\n",
    "\n",
    "# Loop one survey ID at a time and split the Intake24 dataframe accordingly.\n",
    "for survey_id in survey_ids_list:\n",
    "\n",
    "    survey_meals_df = intake24_df.query(\"survey_id == @survey_id\")\n",
    "\n",
    "    # Add in the user (if it exists)\n",
    "    user_id = survey_meals_df._get_value(0, 'user_id')\n",
    "    \n",
    "    if user_id not in user_information:\n",
    "        user_information[user_id] = {}\n",
    "\n",
    "    # Create the empty dictionary for survey information\n",
    "    # Every meal of the survey will be populated here\n",
    "    user_information[user_id][survey_id] = {}\n",
    "    survey_meals_dict = user_information[user_id][survey_id]\n",
    "    \n",
    "\n",
    "    # Step 2: Split further the Meal ID\n",
    "    meal_ids_list = survey_meals_df['meal_id'].unique().tolist()\n",
    "    loop_meals(meal_ids_list, survey_meals_df, survey_meals_dict)\n",
    "    break"
   ]
  }
 ],
 "metadata": {
  "kernelspec": {
   "display_name": "Python 3 (ipykernel)",
   "language": "python",
   "name": "python3"
  },
  "language_info": {
   "codemirror_mode": {
    "name": "ipython",
    "version": 3
   },
   "file_extension": ".py",
   "mimetype": "text/x-python",
   "name": "python",
   "nbconvert_exporter": "python",
   "pygments_lexer": "ipython3",
   "version": "3.9.17"
  }
 },
 "nbformat": 4,
 "nbformat_minor": 5
}
