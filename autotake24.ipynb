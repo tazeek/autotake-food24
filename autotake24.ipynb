{
 "cells": [
  {
   "cell_type": "code",
   "execution_count": 1,
   "id": "a350c209-933d-4288-809e-495b906c0d4b",
   "metadata": {},
   "outputs": [],
   "source": [
    "from tqdm import tqdm\n",
    "\n",
    "from User import User\n",
    "from Survey import Survey\n",
    "from Intake import Intake\n",
    "from heifa_composition import FoodComposition\n",
    "\n",
    "import pandas as pd"
   ]
  },
  {
   "cell_type": "code",
   "execution_count": 2,
   "id": "1a39a523-ae38-4b65-bd71-0090fd376845",
   "metadata": {},
   "outputs": [],
   "source": [
    "def rename_columns(old_name:str, new_name: str, df: pd.DataFrame) -> None:\n",
    "    df.rename(columns = { old_name : new_name }, inplace=True)\n",
    "    return None"
   ]
  },
  {
   "cell_type": "markdown",
   "id": "460a7391-e11e-4dc5-be38-cfb4fe01a84a",
   "metadata": {},
   "source": [
    "# Breakdown of Intake 24:\n",
    "\n",
    "The file has many users.\n",
    "\n",
    "Each user has many surveys.\n",
    "\n",
    "Each survey has many meal intake.\n",
    "\n",
    "Each intake consists of many food components.\n",
    "\n",
    "Every food component is marked with a \"Nutrition ID code\"."
   ]
  },
  {
   "cell_type": "code",
   "execution_count": null,
   "id": "1c129caa-2ef4-4651-8cee-683a011a8441",
   "metadata": {},
   "outputs": [],
   "source": [
    "# Rename the columns (For Intake24)\n",
    "\n",
    "intake24_df = pd.read_csv('files/intake24_survey_file.csv')\n",
    "\n",
    "#print(intake24_df.columns)\n",
    "\n",
    "rename_columns('Energy, with dietary fibre', 'energy_with_fibre', intake24_df)\n",
    "rename_columns('Meal name', 'meal_name', intake24_df)\n",
    "rename_columns('Survey ID', 'survey_id', intake24_df)\n",
    "rename_columns('Intake24 food code', 'food_code', intake24_df)\n",
    "rename_columns('User ID', 'user_id', intake24_df)\n",
    "rename_columns('Meal ID', 'meal_id', intake24_df)\n",
    "rename_columns('Nutrient table code', 'heifa_nutrient_id', intake24_df)\n",
    "rename_columns('Portion size (g/ml)', 'portion_size_consumed', intake24_df)\n",
    "\n",
    "#print(\"\\n\\n\")\n",
    "#print(intake24_df.columns)"
   ]
  },
  {
   "cell_type": "code",
   "execution_count": null,
   "id": "8a30459d-ca13-4935-a77e-5adf747331e0",
   "metadata": {},
   "outputs": [],
   "source": [
    "# Structure is like this:\n",
    "# - Map user ID to their respective meal and information\n",
    "# - Map the meal number to the respective ingredients\n",
    "# - Map the ingredients to their respective nutrient code\n",
    "\n",
    "user_dict = {}"
   ]
  },
  {
   "cell_type": "code",
   "execution_count": null,
   "id": "e6d54e1b-c87e-4631-abae-173d4890413d",
   "metadata": {},
   "outputs": [],
   "source": [
    "def loop_ingredients(food_df: pd.DataFrame) -> dict:\n",
    "\n",
    "    meal_intake = Intake()\n",
    "    meal_intake.add_food_information(food_df)\n",
    "    \n",
    "    return meal_intake\n",
    "\n",
    "def loop_meals(meal_ids_list: list, survey_meals_df: pd.DataFrame) -> None:\n",
    "\n",
    "    survey_info_meals = Survey()\n",
    "    \n",
    "    for meal_id in meal_ids_list:\n",
    "        \n",
    "        food_intake_df = survey_meals_df.query(\"meal_id == @meal_id\")\n",
    "        meal_ingredients = loop_ingredients(food_intake_df)\n",
    "\n",
    "        # To be removed and replaced with OOP\n",
    "        survey_info_meals.add_meal(meal_id, meal_ingredients)\n",
    "\n",
    "    return survey_info_meals"
   ]
  },
  {
   "cell_type": "code",
   "execution_count": null,
   "id": "574bb74a-8156-4412-88b5-37e23fe2802d",
   "metadata": {},
   "outputs": [],
   "source": [
    "# Step 1: Let's split by the survey ID.\n",
    "\n",
    "# Get the list of survey IDs.\n",
    "survey_ids_list = intake24_df['survey_id'].unique().tolist()\n",
    "\n",
    "# Loop one survey ID at a time and split the Intake24 dataframe accordingly.\n",
    "for survey_id in tqdm(survey_ids_list, ncols=50):\n",
    "\n",
    "    survey_meals_df = intake24_df.query(\"survey_id == @survey_id\")\n",
    "\n",
    "    # Extract the user ID.\n",
    "    # If it exists, extract the object.\n",
    "    # Otherwise, create a new object\n",
    "    user_id = survey_meals_df['user_id'].values[0]\n",
    "    \n",
    "    if user_id not in user_dict:\n",
    "        user_dict[user_id] = User(user_id)\n",
    "\n",
    "    user = user_dict[user_id]\n",
    "    \n",
    "    # Step 2: Split further the Meal ID\n",
    "    meal_ids_list = survey_meals_df['meal_id'].unique().tolist()\n",
    "\n",
    "    # Step 3: Get information of the meals\n",
    "    survey_meals_info = loop_meals(meal_ids_list, survey_meals_df)\n",
    "\n",
    "    # Every meal of the survey will be populated here\n",
    "    user.add_survey(survey_id, survey_meals_info)"
   ]
  },
  {
   "cell_type": "code",
   "execution_count": null,
   "id": "fb467453-2f4f-4002-8bd4-59741c6e6fcc",
   "metadata": {},
   "outputs": [],
   "source": [
    "for user_id in user_dict.keys():\n",
    "\n",
    "    #print(f\"Printing for User {user_id}\")\n",
    "    user_obj = user_dict[user_id]\n",
    "    user_obj.print_information()"
   ]
  },
  {
   "cell_type": "markdown",
   "id": "dd5bdb58-1217-4593-947f-15f0b22ffe5c",
   "metadata": {},
   "source": [
    "# Breakdown of HEIFA (Food Composition)\n",
    "\n",
    "Every row in the file is a unique ingredient.\n",
    "\n",
    "Every ingredient:\n",
    "- has it's own attributes.\n",
    "- can be mapped to a 8-digit code (for HEIFA Recipe)\n",
    "- is used as a divisor for either energy (kilo joules) or grams (g)"
   ]
  },
  {
   "cell_type": "code",
   "execution_count": 3,
   "id": "27dbca61-2f2f-41d8-a4b1-780cab75840a",
   "metadata": {},
   "outputs": [],
   "source": [
    "heifa_food_df = pd.read_csv('files/heifa_food_composition.csv')\n",
    "\n",
    "#print(heifa_food_df)"
   ]
  },
  {
   "cell_type": "code",
   "execution_count": 4,
   "id": "f46bd75b-8226-4290-b23c-813e475686b7",
   "metadata": {},
   "outputs": [],
   "source": [
    "# Rename the columns (For HEIFA Food Comp)\n",
    "\n",
    "#print(heifa_food_df.columns)\n",
    "\n",
    "#rename_columns('Energy, with dietary fibre', 'energy_with_fibre', intake24_df)\n",
    "rename_columns('Nutrient table code', 'heifa_code', heifa_food_df)\n",
    "rename_columns('8 digit code', '8_digit_code', heifa_food_df)\n",
    "rename_columns('HEIFA Food Groups', 'food_group', heifa_food_df)\n",
    "rename_columns('Energy or grams per Serve \\n(HEIFA food groups)', 'serving_size', heifa_food_df)\n",
    "rename_columns('Serving size unit of measure', 'serving_measure', heifa_food_df)\n",
    "    \n",
    "#print(\"\\n\\n\")\n",
    "#print(heifa_food_df.columns)"
   ]
  },
  {
   "cell_type": "code",
   "execution_count": 5,
   "id": "4c6d528e-0f48-43d3-90f2-3b14af7a0328",
   "metadata": {},
   "outputs": [
    {
     "name": "stdout",
     "output_type": "stream",
     "text": [
      "   heifa_code                food_group serving_size serving_measure\n",
      "0    01B10298             No food group          N/A             N/A\n",
      "1    01B10330             No food group          N/A             N/A\n",
      "2    01B10390             No food group          N/A             N/A\n",
      "3    01B10391             No food group          N/A             N/A\n",
      "4    01B10404             No food group          N/A             N/A\n",
      "5    01B10392             No food group          N/A             N/A\n",
      "6    01B10482             No food group          N/A             N/A\n",
      "7    01B10487             Discretionary        600.0              kJ\n",
      "8    01B10480  Recipe/Non-discretionary          N/A             N/A\n",
      "9    01B10488      Recipe/Discretionary          N/A             N/A\n",
      "10   01B10489      Recipe/Discretionary          N/A             N/A\n",
      "11   01B10490      Recipe/Discretionary          N/A             N/A\n",
      "12   01B10491      Recipe/Discretionary          N/A             N/A\n",
      "13   01B10397             No food group          N/A             N/A\n",
      "14   01B10540             No food group          N/A             N/A\n",
      "15   09A40059             Discretionary        600.0              kJ\n",
      "16   01B10334             No food group          N/A             N/A\n",
      "17   01B10333             No food group          N/A             N/A\n",
      "18   01B10332             No food group          N/A             N/A\n",
      "19   01B10299             No food group          N/A             N/A\n",
      "20   01B10485             No food group          N/A             N/A\n",
      "21   01B10486             Discretionary        600.0              kJ\n",
      "22   01B10325             No food group          N/A             N/A\n",
      "23   01B10301             No food group          N/A             N/A\n",
      "24   01B10300             No food group          N/A             N/A\n",
      "25   01B10398             No food group          N/A             N/A\n",
      "26   01B10475             No food group          N/A             N/A\n",
      "27   01B10302             No food group          N/A             N/A\n",
      "28   01B10396  Recipe/Non-discretionary          N/A             N/A\n",
      "29   01B10405  Recipe/Non-discretionary          N/A             N/A\n"
     ]
    }
   ],
   "source": [
    "# Data cleaning\n",
    "#print(heifa_food_df[['heifa_code', 'food_group', 'serving_size', 'serving_measure']].head(30))\n",
    "\n",
    "filled_values = {\n",
    "    'serving_size' : 'N/A',\n",
    "    'serving_measure': 'N/A'\n",
    "}\n",
    "\n",
    "heifa_food_df.fillna(value = filled_values, inplace=True)\n",
    "\n",
    "print(heifa_food_df[['heifa_code', 'food_group', 'serving_size', 'serving_measure']].head(30))\n"
   ]
  },
  {
   "cell_type": "code",
   "execution_count": 6,
   "id": "2bf0753a-4aff-4895-9d5b-f0b28f36cb10",
   "metadata": {},
   "outputs": [],
   "source": [
    "def create_food_comp_objects(heifa_food_df):\n",
    "\n",
    "    heifa_food_dict = {}\n",
    "\n",
    "    def populate_food_composition(food_row):\n",
    "\n",
    "        heifa_code = food_row['heifa_code']\n",
    "        \n",
    "        info_dict = {\n",
    "            'heifa_code': heifa_code,\n",
    "            '8_digit_code': food_row['8_digit_code'],\n",
    "            'food_group': food_row['food_group'],\n",
    "            'serving_size': food_row['serving_size'],\n",
    "            'serving_measure': food_row['serving_measure']\n",
    "        }\n",
    "\n",
    "        heifa_food_dict[heifa_code] = FoodComposition(info_dict)\n",
    "\n",
    "    heifa_food_df.apply(populate_food_composition, axis = 1)\n",
    "\n",
    "    return heifa_food_dict\n",
    "\n",
    "# Create the objects\n",
    "food_composition_dict = create_food_comp_objects(heifa_food_df)"
   ]
  },
  {
   "cell_type": "code",
   "execution_count": 9,
   "id": "7669ad0f-ce72-4aa8-abaa-0fe69b4ce41f",
   "metadata": {},
   "outputs": [],
   "source": [
    "for key, food_comp_obj in food_composition_dict.items():\n",
    "\n",
    "    #food_comp_obj.print_full_details()\n",
    "    ..."
   ]
  },
  {
   "cell_type": "code",
   "execution_count": null,
   "id": "05536c17-d5b9-44c0-8f35-5d3c64350e19",
   "metadata": {},
   "outputs": [],
   "source": []
  }
 ],
 "metadata": {
  "kernelspec": {
   "display_name": "Python 3 (ipykernel)",
   "language": "python",
   "name": "python3"
  },
  "language_info": {
   "codemirror_mode": {
    "name": "ipython",
    "version": 3
   },
   "file_extension": ".py",
   "mimetype": "text/x-python",
   "name": "python",
   "nbconvert_exporter": "python",
   "pygments_lexer": "ipython3",
   "version": "3.9.17"
  }
 },
 "nbformat": 4,
 "nbformat_minor": 5
}
