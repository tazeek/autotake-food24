{
 "cells": [
  {
   "cell_type": "code",
   "execution_count": 1,
   "id": "a350c209-933d-4288-809e-495b906c0d4b",
   "metadata": {},
   "outputs": [],
   "source": [
    "from tqdm import tqdm\n",
    "\n",
    "from User import User\n",
    "from Survey import Survey\n",
    "from Intake import Intake\n",
    "\n",
    "import pandas as pd"
   ]
  },
  {
   "cell_type": "code",
   "execution_count": 2,
   "id": "c119604f-f9f0-4553-93ca-0eb8000421e1",
   "metadata": {},
   "outputs": [],
   "source": [
    "intake24_df = pd.read_csv('files/intake24_survey_file.csv')\n",
    "#print(intake24_df)"
   ]
  },
  {
   "cell_type": "markdown",
   "id": "460a7391-e11e-4dc5-be38-cfb4fe01a84a",
   "metadata": {},
   "source": [
    "# Breakdown (From user to ingredient):\n",
    "\n",
    "The file has many users.\n",
    "\n",
    "Each user has many surveys.\n",
    "\n",
    "Each survey has many meals.\n",
    "\n",
    "Each meal consists of many food components.\n",
    "\n",
    "Every food component is marked with a \"Nutrition ID code\"."
   ]
  },
  {
   "cell_type": "code",
   "execution_count": 3,
   "id": "1c129caa-2ef4-4651-8cee-683a011a8441",
   "metadata": {},
   "outputs": [],
   "source": [
    "def rename_columns(old_name:str, new_name: str, df: pd.DataFrame) -> None:\n",
    "    df.rename(columns = { old_name : new_name }, inplace=True)\n",
    "    return None\n",
    "\n",
    "rename_columns('Survey ID', 'survey_id', intake24_df)\n",
    "rename_columns('Intake24 food code', 'food_code', intake24_df)\n",
    "rename_columns('User ID', 'user_id', intake24_df)\n",
    "rename_columns('Meal ID', 'meal_id', intake24_df)\n",
    "rename_columns('Nutrient table code', 'heifa_nutrient_id', intake24_df)\n",
    "rename_columns('Portion size (g/ml)', 'portion_size_consumed', intake24_df)"
   ]
  },
  {
   "cell_type": "code",
   "execution_count": 4,
   "id": "8a30459d-ca13-4935-a77e-5adf747331e0",
   "metadata": {},
   "outputs": [],
   "source": [
    "# Structure is like this:\n",
    "# - Map user ID to their respective meal and information\n",
    "# - Map the meal number to the respective ingredients\n",
    "# - Map the ingredients to their respective nutrient code\n",
    "\n",
    "user_information = {}"
   ]
  },
  {
   "cell_type": "code",
   "execution_count": 8,
   "id": "e6d54e1b-c87e-4631-abae-173d4890413d",
   "metadata": {},
   "outputs": [],
   "source": [
    "def loop_ingredients(ingredients_df: pd.DataFrame) -> dict:\n",
    "\n",
    "    # What do we need:\n",
    "    # - The ID: HEIFA\n",
    "    # - The Intake24 Food Code\n",
    "    # - The portion consumed\n",
    "    food_code_list = ingredients_df['food_code'].values.tolist()\n",
    "    heifa_list = ingredients_df['heifa_nutrient_id'].values.tolist()\n",
    "    portion_size_list = ingredients_df['portion_size_consumed'].values.tolist()\n",
    "\n",
    "    zipped_ingredients = zip(heifa_list, food_code_list, portion_size_list)\n",
    "\n",
    "    meal_info_dict = {}\n",
    "    meal_info_dict['heifa_ingredients_consumed'] = heifa_list\n",
    "\n",
    "    # OOP Approach\n",
    "    meal_intake = Intake()\n",
    "    meal_intake.add_nutrient_heifa_list(heifa_list)\n",
    "    \n",
    "    for heifa_id, food_code, portion_size in zipped_ingredients:\n",
    "\n",
    "        nutrient_info = {\n",
    "            'food_code': food_code,\n",
    "            'portion_size': portion_size\n",
    "        }\n",
    "        \n",
    "        meal_info_dict[heifa_id] = nutrient_info\n",
    "\n",
    "        # OOP Approach\n",
    "        meal_intake.add_nutrient(heifa_id, nutrient_info)\n",
    "\n",
    "    print(meal_intake.nutrients_info)\n",
    "    print(meal_intake.heifa_list)\n",
    "    print(\"\\n\\n\")\n",
    "    \n",
    "    return meal_info_dict\n",
    "\n",
    "def loop_meals(meal_ids_list: list, survey_meals_df: pd.DataFrame) -> None:\n",
    "\n",
    "    survey_meals_dict = {}\n",
    "    for meal_id in meal_ids_list:\n",
    "        \n",
    "        ingredients_df = survey_meals_df.query(\"meal_id == @meal_id\")\n",
    "        \n",
    "        survey_meals_dict[meal_id] = loop_ingredients(ingredients_df)\n",
    "        \n",
    "    return survey_meals_dict"
   ]
  },
  {
   "cell_type": "code",
   "execution_count": 6,
   "id": "574bb74a-8156-4412-88b5-37e23fe2802d",
   "metadata": {},
   "outputs": [
    {
     "name": "stderr",
     "output_type": "stream",
     "text": [
      "  0%|                     | 0/405 [00:00<?, ?it/s]"
     ]
    },
    {
     "name": "stdout",
     "output_type": "stream",
     "text": [
      "<Intake.Intake object at 0x00000271D2E45AC0>\n",
      "<Intake.Intake object at 0x00000271D2E458E0>\n",
      "<Intake.Intake object at 0x00000271D2E45C40>\n",
      "<Intake.Intake object at 0x00000271D2E459A0>\n"
     ]
    },
    {
     "name": "stderr",
     "output_type": "stream",
     "text": [
      "\n"
     ]
    }
   ],
   "source": [
    "# Step 1: Let's split by the survey ID.\n",
    "\n",
    "# Get the list of survey IDs.\n",
    "survey_ids_list = intake24_df['survey_id'].unique().tolist()\n",
    "#print(f'Total number of surveys carried out: {len(survey_ids_list)}')\n",
    "\n",
    "# Loop one survey ID at a time and split the Intake24 dataframe accordingly.\n",
    "for survey_id in tqdm(survey_ids_list, ncols=50):\n",
    "\n",
    "    survey_meals_df = intake24_df.query(\"survey_id == @survey_id\")\n",
    "    survey_meals_df.reset_index(inplace=True)\n",
    "\n",
    "    # Add in the user (if it exists)\n",
    "    user_id = survey_meals_df['user_id'][0]\n",
    "    if user_id not in user_information:\n",
    "        user_information[user_id] = {}\n",
    "    \n",
    "    # Step 2: Split further the Meal ID\n",
    "    meal_ids_list = survey_meals_df['meal_id'].unique().tolist()\n",
    "\n",
    "    # Step 3: Get information of the meals\n",
    "    meal_info_dict = loop_meals(meal_ids_list, survey_meals_df)\n",
    "\n",
    "    # Every meal of the survey will be populated here\n",
    "    meal_info_dict['meals'] = meal_ids_list\n",
    "    user_information[user_id][survey_id] = meal_info_dict\n",
    "\n",
    "    break"
   ]
  },
  {
   "cell_type": "code",
   "execution_count": 7,
   "id": "48bcdf5b-a488-4503-9af7-2fbd9146d3ba",
   "metadata": {},
   "outputs": [
    {
     "name": "stdout",
     "output_type": "stream",
     "text": [
      "For User ID 1\n",
      "--------------\n",
      "\n",
      "For Survey 5d3e72da-a241-4e8e-837b-021accf9a37c: 4 meals populated\n",
      "\n",
      "For Meal #1\n",
      "Ingredient 04B10082 (Food code: MARG) of portion size 15.5g/ml\n",
      "Ingredient 02B10604 (Food code: WTST) of portion size 54.0g/ml\n",
      "Ingredient 09A10204 (Food code: SMLK) of portion size 16.42g/ml\n",
      "Ingredient 01B10301 (Food code: FLCO) of portion size 194.92g/ml\n",
      "\n",
      "\n",
      "\n",
      "For Meal #2\n",
      "Ingredient 08E30320 (Food code: SLMI) of portion size 51.75g/ml\n",
      "Ingredient 09A10204 (Food code: SMLK) of portion size 16.42g/ml\n",
      "Ingredient 01B10301 (Food code: FLCO) of portion size 195.2g/ml\n",
      "\n",
      "\n",
      "\n",
      "For Meal #3\n",
      "Ingredient 04B10082 (Food code: MARG) of portion size 12.4g/ml\n",
      "Ingredient 02B10604 (Food code: WTST) of portion size 54.0g/ml\n",
      "Ingredient 09A10204 (Food code: SMLK) of portion size 16.42g/ml\n",
      "Ingredient 01B10301 (Food code: FLCO) of portion size 198.9g/ml\n",
      "\n",
      "\n",
      "\n",
      "For Meal #4\n",
      "Ingredient 08F10852 (Food code: CCCB) of portion size 106.0g/ml\n",
      "Ingredient 01B20413 (Food code: OSQB) of portion size 272.18g/ml\n",
      "\n",
      "\n",
      "\n",
      "====================\n",
      "\n"
     ]
    }
   ],
   "source": [
    "def print_ingredients_component(ingredients_dict, heifa_list):\n",
    "\n",
    "    for heifa_code in heifa_list:\n",
    "        \n",
    "        food_code = ingredients_dict[heifa_code]['food_code']\n",
    "        portion_size = ingredients_dict[heifa_code]['portion_size']\n",
    "        print(f\"Ingredient {heifa_code} (Food code: {food_code}) of portion size {portion_size}g/ml\")\n",
    "\n",
    "def print_ingredients_information(meals_dict, meals_ids_list):\n",
    "\n",
    "    for id in meals_ids_list:\n",
    "\n",
    "        heifa_ingredients_list = meals_dict[id]['heifa_ingredients_consumed']\n",
    "        print(f\"For Meal #{id}\")\n",
    "        print_ingredients_component(meals_dict[id], heifa_ingredients_list)\n",
    "        print(\"\\n\\n\")\n",
    "    \n",
    "def print_meal_information(survey_ids, user_dict):\n",
    "\n",
    "    for survey_id in survey_ids:\n",
    "\n",
    "        meals_ids_list = user_dict[survey_id]['meals']\n",
    "        print(f\"For Survey {survey_id}: {len(meal_ids_list)} meals populated\\n\")\n",
    "        print_ingredients_information(user_dict[survey_id], meals_ids_list)\n",
    "        \n",
    "\n",
    "for user_id in user_information.keys():\n",
    "\n",
    "    # Lets dive into the user\n",
    "    print(f\"For User ID {user_id}\\n--------------\\n\")\n",
    "    user_dict = user_information[user_id]\n",
    "    \n",
    "    survey_ids = user_information[user_id].keys()\n",
    "\n",
    "    print_meal_information(survey_ids, user_dict)\n",
    "    print(\"=\" * 20 + \"\\n\")"
   ]
  }
 ],
 "metadata": {
  "kernelspec": {
   "display_name": "Python 3 (ipykernel)",
   "language": "python",
   "name": "python3"
  },
  "language_info": {
   "codemirror_mode": {
    "name": "ipython",
    "version": 3
   },
   "file_extension": ".py",
   "mimetype": "text/x-python",
   "name": "python",
   "nbconvert_exporter": "python",
   "pygments_lexer": "ipython3",
   "version": "3.9.17"
  }
 },
 "nbformat": 4,
 "nbformat_minor": 5
}
