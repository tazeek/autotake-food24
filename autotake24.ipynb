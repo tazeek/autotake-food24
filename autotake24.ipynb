{
 "cells": [
  {
   "cell_type": "code",
   "execution_count": 1,
   "id": "a350c209-933d-4288-809e-495b906c0d4b",
   "metadata": {},
   "outputs": [],
   "source": [
    "import pandas as pd"
   ]
  },
  {
   "cell_type": "code",
   "execution_count": 2,
   "id": "c119604f-f9f0-4553-93ca-0eb8000421e1",
   "metadata": {},
   "outputs": [],
   "source": [
    "intake24_df = pd.read_csv('files/intake24_survey_file.csv')"
   ]
  },
  {
   "cell_type": "code",
   "execution_count": 3,
   "id": "78804ecf-dd17-4032-9949-616f564449db",
   "metadata": {},
   "outputs": [
    {
     "name": "stdout",
     "output_type": "stream",
     "text": [
      "                                 Survey ID  User ID                Start time  \\\n",
      "0     5d3e72da-a241-4e8e-837b-021accf9a37c        1  2022-08-03T06:55:02.102Z   \n",
      "1     5d3e72da-a241-4e8e-837b-021accf9a37c        1  2022-08-03T06:55:02.102Z   \n",
      "2     5d3e72da-a241-4e8e-837b-021accf9a37c        1  2022-08-03T06:55:02.102Z   \n",
      "3     5d3e72da-a241-4e8e-837b-021accf9a37c        1  2022-08-03T06:55:02.102Z   \n",
      "4     5d3e72da-a241-4e8e-837b-021accf9a37c        1  2022-08-03T06:55:02.102Z   \n",
      "...                                    ...      ...                       ...   \n",
      "5749  4f7e1c91-c883-438a-b1b5-43bf6f0222cc      263  2022-09-23T11:34:28.178Z   \n",
      "5750  4f7e1c91-c883-438a-b1b5-43bf6f0222cc      263  2022-09-23T11:34:28.178Z   \n",
      "5751  4f7e1c91-c883-438a-b1b5-43bf6f0222cc      263  2022-09-23T11:34:28.178Z   \n",
      "5752  4f7e1c91-c883-438a-b1b5-43bf6f0222cc      263  2022-09-23T11:34:28.178Z   \n",
      "5753  4f7e1c91-c883-438a-b1b5-43bf6f0222cc      263  2022-09-23T11:34:28.178Z   \n",
      "\n",
      "               Submission time Time to complete  Meal ID     Meal name  \\\n",
      "0     2022-08-03T07:07:57.835Z           12 min        1     Breakfast   \n",
      "1     2022-08-03T07:07:57.835Z           12 min        1     Breakfast   \n",
      "2     2022-08-03T07:07:57.835Z           12 min        1     Breakfast   \n",
      "3     2022-08-03T07:07:57.835Z           12 min        1     Breakfast   \n",
      "4     2022-08-03T07:07:57.835Z           12 min        2         Lunch   \n",
      "...                        ...              ...      ...           ...   \n",
      "5749  2022-09-23T11:41:24.412Z            6 min        3  Evening meal   \n",
      "5750  2022-09-23T11:41:24.412Z            6 min        3  Evening meal   \n",
      "5751  2022-09-23T11:41:24.412Z            6 min        3  Evening meal   \n",
      "5752  2022-09-23T11:41:24.412Z            6 min        3  Evening meal   \n",
      "5753  2022-09-23T11:41:24.412Z            6 min        3  Evening meal   \n",
      "\n",
      "      Food ID             Search term Intake24 food code  ...  Zinc  \\\n",
      "0           1  associated food prompt               MARG  ...  0.00   \n",
      "1           2                  Toast                WTST  ...  0.53   \n",
      "2           3  associated food prompt               SMLK  ...  0.07   \n",
      "3           4                  Coffee               FLCO  ...  0.02   \n",
      "4           1        Meat sandwiches                SLMI  ...  2.08   \n",
      "...       ...                     ...                ...  ...   ...   \n",
      "5749        1                    fish               TEMP  ...  0.27   \n",
      "5750        2                   chips               FCFO  ...  0.39   \n",
      "5751        3                   bread               GPIZ  ...  0.74   \n",
      "5752        4                   salac               VIDR  ...  0.00   \n",
      "5753        5               pepsi max               MAXC  ...  0.00   \n",
      "\n",
      "     a-Tocopherol (mg) Caffeine Vitamin A Retionol equivelents  Vitamin B12  \\\n",
      "0                  NaN     0.00                         126.17         0.00   \n",
      "1                  NaN     0.00                           0.00         0.05   \n",
      "2                  NaN     0.00                           2.46         0.10   \n",
      "3                  NaN    60.43                           0.00         0.00   \n",
      "4                  NaN     0.00                           8.28         0.98   \n",
      "...                ...      ...                            ...          ...   \n",
      "5749               NaN     0.00                           1.25         0.23   \n",
      "5750               NaN     0.00                           6.37         0.00   \n",
      "5751               NaN      NaN                            NaN         0.00   \n",
      "5752               NaN     0.00                           0.46         0.00   \n",
      "5753               NaN    41.25                           0.00         0.00   \n",
      "\n",
      "      Folate  Folate food, naturally occurring food folates Iodine Selenium  \\\n",
      "0       0.62                                           0.62   0.45     0.08   \n",
      "1     116.10                                           5.94  38.39     6.48   \n",
      "2       3.28                                           3.12   3.74     0.10   \n",
      "3       0.00                                           0.00   1.56     0.78   \n",
      "4       0.00                                           0.00   1.04    13.56   \n",
      "...      ...                                            ...    ...      ...   \n",
      "5749    2.75                                           2.75   6.43    10.40   \n",
      "5750   10.92                                          10.92   0.64     0.64   \n",
      "5751   12.60                                            NaN   8.40     1.05   \n",
      "5752    0.00                                           0.00   0.23     0.23   \n",
      "5753    0.00                                           0.00   6.38     1.88   \n",
      "\n",
      "      Dietary folate equivalents  \n",
      "0                           0.62  \n",
      "1                         189.54  \n",
      "2                           3.28  \n",
      "3                           0.00  \n",
      "4                           0.00  \n",
      "...                          ...  \n",
      "5749                        2.75  \n",
      "5750                       10.92  \n",
      "5751                         NaN  \n",
      "5752                        0.00  \n",
      "5753                        0.00  \n",
      "\n",
      "[5754 rows x 82 columns]\n"
     ]
    }
   ],
   "source": [
    "print(intake24_df)"
   ]
  },
  {
   "cell_type": "code",
   "execution_count": null,
   "id": "bc5f22be-f7a4-4856-979d-70a12c1e3639",
   "metadata": {},
   "outputs": [],
   "source": []
  }
 ],
 "metadata": {
  "kernelspec": {
   "display_name": "Python 3 (ipykernel)",
   "language": "python",
   "name": "python3"
  },
  "language_info": {
   "codemirror_mode": {
    "name": "ipython",
    "version": 3
   },
   "file_extension": ".py",
   "mimetype": "text/x-python",
   "name": "python",
   "nbconvert_exporter": "python",
   "pygments_lexer": "ipython3",
   "version": "3.9.17"
  }
 },
 "nbformat": 4,
 "nbformat_minor": 5
}
