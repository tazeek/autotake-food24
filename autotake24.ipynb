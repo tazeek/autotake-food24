{
 "cells": [
  {
   "cell_type": "markdown",
   "id": "65d461fd",
   "metadata": {},
   "source": [
    "# Completion\n",
    "\n",
    "\n",
    "# Clarifications\n",
    "\n",
    "\n",
    "# Questions to Ask\n",
    "\n"
   ]
  },
  {
   "cell_type": "code",
   "execution_count": null,
   "id": "a350c209-933d-4288-809e-495b906c0d4b",
   "metadata": {},
   "outputs": [],
   "source": [
    "from utils import *\n",
    "from pprint import pprint\n",
    "\n",
    "import nest_asyncio\n",
    "import asyncio\n",
    "\n",
    "# Only run nest_asyncio in a Jupyter Notebook environment\n",
    "nest_asyncio.apply()"
   ]
  },
  {
   "cell_type": "code",
   "execution_count": null,
   "id": "517346cb",
   "metadata": {},
   "outputs": [],
   "source": [
    "# Load the respective files (Extract)\n",
    "\n",
    "async def get_all_dataframes():\n",
    "    return await asyncio.gather(\n",
    "        load_intake24(),\n",
    "        load_latrobe_file(),\n",
    "        load_heifa_ingredients(),\n",
    "        load_heifa_recipes(),\n",
    "        load_heifa_scores()\n",
    "    )\n",
    "\n",
    "intake24_df, latrobe_df, heifa_food_df, heifa_recipes_df, heifa_scores_df = asyncio.run(get_all_dataframes())"
   ]
  },
  {
   "cell_type": "markdown",
   "id": "460a7391-e11e-4dc5-be38-cfb4fe01a84a",
   "metadata": {},
   "source": [
    "# Breakdown of Intake 24:\n",
    "\n",
    "The file has many users.\n",
    "\n",
    "Each user has many surveys.\n",
    "\n",
    "Each survey has many meal intake.\n",
    "\n",
    "Each intake consists of many food components.\n",
    "\n",
    "Every food component is marked with a \"Nutrition ID code\"."
   ]
  },
  {
   "cell_type": "code",
   "execution_count": null,
   "id": "673be0a8",
   "metadata": {},
   "outputs": [],
   "source": [
    "user_dict = create_user_objects(intake24_df)\n",
    "food_composition_dict = create_food_objects(heifa_food_df)\n",
    "recipe_dict = create_recipe_objects(heifa_recipes_df)\n",
    "heifa_scores_dict = create_scores_objects(heifa_scores_df)"
   ]
  },
  {
   "cell_type": "code",
   "execution_count": null,
   "id": "cdbd28c5",
   "metadata": {},
   "outputs": [],
   "source": [
    "#for user_id in user_dict.keys():\n",
    "\n",
    "#    print(f\"Printing for User {user_id}\")\n",
    "#    user_obj = user_dict[user_id]\n",
    "#    user_obj.print_information()"
   ]
  },
  {
   "cell_type": "markdown",
   "id": "dd5bdb58-1217-4593-947f-15f0b22ffe5c",
   "metadata": {},
   "source": [
    "# Breakdown of HEIFA (Food Composition)\n",
    "\n",
    "Every row in the file is a unique ingredient.\n",
    "\n",
    "Every ingredient:\n",
    "- has it's own attributes.\n",
    "- can be mapped to a 8-digit code (for HEIFA Recipe)\n",
    "- is used as a divisor for either energy (kilo joules) or grams (g)"
   ]
  },
  {
   "cell_type": "code",
   "execution_count": null,
   "id": "2bf0753a-4aff-4895-9d5b-f0b28f36cb10",
   "metadata": {},
   "outputs": [],
   "source": [
    "# Create the objects\n",
    "\n",
    "#for key, food_comp_obj in food_composition_dict.items():\n",
    "#    food_comp_obj.print_full_details()"
   ]
  },
  {
   "cell_type": "markdown",
   "id": "6b0f2e11-4964-4386-85f4-8e34a17d5294",
   "metadata": {},
   "source": [
    "# Breakdown of HEIFA (Recipes)\n",
    "\n",
    "- Every recipe has multiple ingredients\n",
    "- Keys are repeated across rows (similar to Survey ID of Intake24)\n",
    "- Every ingredient has respective proportion to the recipe"
   ]
  },
  {
   "cell_type": "code",
   "execution_count": null,
   "id": "ac5a2dc9",
   "metadata": {},
   "outputs": [],
   "source": [
    "#for id, recipe_obj in recipe_dict.items():\n",
    "#    print(f\"Printing for ID {id}\\n\")\n",
    "#    recipe_obj.print_ingredients_information()"
   ]
  },
  {
   "cell_type": "markdown",
   "id": "cd53a1d8-27c6-402e-9b46-3a90e41b786c",
   "metadata": {},
   "source": [
    "## Mapping between Intake24 and HEIFA Ingredients\n",
    "\n",
    "- For each user, extract the given nutrients and store in an array.\n",
    "- This is from ALL the survey data.\n",
    "- We don't care about the order here.\n",
    "- The array will contain a list of dictionaries/JSON.\n",
    "\n",
    "In the array:\n",
    "\n",
    "- Use the HEIFA ID (from user) to map to the HEIFA Ingredients' HEIFA ID.\n",
    "- Check if a result is found or not.\n",
    "- Check if it requires a recipe or not.\n",
    "\n",
    "## Mapping between Intake24 and HEIFA Recipes\n",
    "\n",
    "This is in case a recipe is found (The second step).\n",
    "\n",
    "- For the given recipe, extract the given nutrients ID and proportion, store in an array.\n",
    "- We don't care about the order here.\n",
    "- The array will contain a list of dictionaries.\n",
    "\n",
    "In the array:\n",
    "\n",
    "- Use the HEIFA ID (from the recipes) to map the HEIFA Ingredients' HEIFA ID.\n",
    "- Check the energy and serving size."
   ]
  },
  {
   "cell_type": "code",
   "execution_count": null,
   "id": "16ed509a",
   "metadata": {},
   "outputs": [],
   "source": [
    "user_daily_intake = calculate_user_servings(user_dict, food_composition_dict, recipe_dict)"
   ]
  },
  {
   "cell_type": "markdown",
   "id": "c6433e06",
   "metadata": {},
   "source": [
    "# Test with Samara's CSV file and post the updates here\n",
    "\n",
    "**Assumption**: This should be the same as Intake24 file format.\n",
    "\n",
    "## Errors encountered\n",
    "\n",
    "**Column  names between Intake24 and Latrobe**\n",
    "- \"Start date (AEST)\" -> Different from Intake24 (used 'Start Time'). -> \"RESOLVED\"\n",
    "- 'Nutrient table code (original)' -> Different from Intake24 (used 'Nutrient table code'). -> \"RESOLVED\"\n",
    "- 'Energy, with dietary fibre (kJ)' -> Different from Intake24 (used 'Energy, with dietary fibre'). -> \"RESOLVED\"\n",
    "\n",
    "**Nutrient ID related**\n",
    "- Values of \"N/A\" in the Nutrient ID still present. -> \"RESOLVED\"\n",
    "- Unknown codes still present (8416) -> \"RESOLVED\"\n",
    "- Row difference before and after dropping: 6028 vs 5613 (415) -> \"RESOLVED\"\n",
    "\n",
    "**Inside the file**:\n",
    "- Some nutrient ID is the food description and not the ID (Example: Porridge, made with light milk) -> \"RESOLVED\"\n",
    "- Nutrient ID does not have the ID from Row 3072 to 3294; it has description (same as previous reason) -> \"RESOLVED\"\n",
    "- Some values of energy are not found; they are shown as #VALUE! (#VALUE! present in the google sheet) -> \"RESOLVED\"\n"
   ]
  },
  {
   "cell_type": "code",
   "execution_count": null,
   "id": "3e3b30dc",
   "metadata": {},
   "outputs": [],
   "source": [
    "user_latrobe_dict = create_user_objects(latrobe_df)\n",
    "\n",
    "#for user_id in user_latrobe_dict.keys():\n",
    "\n",
    "#    print(f\"Printing for User {user_id}\")\n",
    "#    user_obj = user_latrobe_dict[user_id]\n",
    "#    user_obj.print_information()"
   ]
  },
  {
   "cell_type": "code",
   "execution_count": null,
   "id": "8153aef7",
   "metadata": {},
   "outputs": [],
   "source": [
    "latrobe_user_daily_intake = calculate_user_servings(user_latrobe_dict, food_composition_dict, recipe_dict)\n",
    "latrobe_user_heifa_scores = calculate_heifa_scores(heifa_scores_dict, latrobe_user_daily_intake)"
   ]
  },
  {
   "cell_type": "code",
   "execution_count": null,
   "id": "c7441d0d",
   "metadata": {},
   "outputs": [],
   "source": [
    "# Display\n",
    "for user_id, daily_intake_dict in latrobe_user_daily_intake.items():\n",
    "\n",
    "    for survey_id, food_group_dict in daily_intake_dict.items():\n",
    "        print(f\"Breakdown of User {user_id} for Survey ID {survey_id}:\")\n",
    "\n",
    "        individual_dict = food_group_dict['individual']\n",
    "        total_dict = food_group_dict['total']\n",
    "        variations_dict = food_group_dict['variations']\n",
    "\n",
    "        # Sort so can display in alphabetical order\n",
    "        individual_dict = dict(sorted(individual_dict.items()))\n",
    "\n",
    "        for food_group, total_serving in individual_dict.items():\n",
    "            print(f\"- {food_group}: {total_serving:.2f} serves\")\n",
    "\n",
    "        print(\"\")\n",
    "        \n",
    "        print(\"***HEIFA SCORES CONVERSION (START)***\\n\")\n",
    "        total_dict = dict(sorted(total_dict.items()))\n",
    "\n",
    "        for food_group, total_serving in total_dict.items():\n",
    "            \n",
    "            print(f\"> {food_group}: {total_serving:.2f} serves\")\n",
    "\n",
    "            if food_group not in latrobe_user_heifa_scores[user_id][survey_id]['breakdown']:\n",
    "                print(\"* No score\")\n",
    "                print(\"\")\n",
    "                continue\n",
    "\n",
    "            if food_group in variations_dict:\n",
    "\n",
    "                variations = variations_dict[food_group]\n",
    "                for sub_group, serving_size in variations.items():\n",
    "                    print(f\"-- {sub_group}: {serving_size:.2f} serves\")\n",
    "\n",
    "            gender_scores = latrobe_user_heifa_scores[user_id][survey_id]['breakdown'][food_group]\n",
    "\n",
    "            male_score = gender_scores['male_score']\n",
    "            female_score = gender_scores['female_score']\n",
    "        \n",
    "            print(f\"* Male score: {male_score}\")\n",
    "            print(f\"* Female score: {female_score}\")\n",
    "            print(\"\")\n",
    "        \n",
    "        \n",
    "        total_male_heifa = latrobe_user_heifa_scores[user_id][survey_id]['male_total']\n",
    "        total_female_heifa = latrobe_user_heifa_scores[user_id][survey_id]['female_total']\n",
    "\n",
    "        print(f\"HEIFA Total (Male): {total_male_heifa}\")\n",
    "        print(f\"HEIFA Total (Female): {total_female_heifa}\")\n",
    "        print(\"\")\n",
    "        \n",
    "        print(\"***HEIFA SCORES CONVERSION (END)***\")\n",
    "        print(\"\")\n",
    "        print(\"=\" * 20)"
   ]
  },
  {
   "cell_type": "markdown",
   "id": "8deffae6",
   "metadata": {},
   "source": [
    "# Calculating the HEIFA Scores\n",
    "\n",
    "Heifa scores are to be calculated on a **daily basis**.\n",
    "\n",
    "To calculate them, let's break them down:\n",
    "\n",
    "- Break down by user\n",
    "- Break down by date\n",
    "- Break down by major food group (Example: Vegetables/Green -> Vegetables is the major food group)\n",
    "- Break down by sub-food group of the major (Example: Vegetables/Green -> Green is the sub-food group)\n",
    "- Compare the scores by gender (male and female)\n",
    "\n",
    "There are some exceptions to the rule, based on the HEIFA scores guideline:\n",
    "\n",
    "- Grains and cereals/Wholegrains -> This is to be calculated separately as \"Grains and cereals\" and \"Wholegrains\".\n",
    "\n",
    "Varieties:\n",
    "\n",
    "- Store the variety score in a different dictionary\n",
    "- Find the score of each variety group separately (based on the HEIFA rule book)"
   ]
  },
  {
   "cell_type": "code",
   "execution_count": null,
   "id": "4ebd85a9",
   "metadata": {},
   "outputs": [],
   "source": [
    "# Create the HEIFA scores list\n",
    "user_heifa_scores = calculate_heifa_scores(heifa_scores_dict, user_daily_intake)"
   ]
  },
  {
   "cell_type": "code",
   "execution_count": null,
   "id": "4681efe6",
   "metadata": {},
   "outputs": [],
   "source": [
    "# Display\n",
    "for user_id, daily_intake_dict in user_daily_intake.items():\n",
    "\n",
    "    for survey_id, food_group_dict in daily_intake_dict.items():\n",
    "        print(f\"Breakdown of User {user_id} for Survey ID {survey_id}:\")\n",
    "\n",
    "        individual_dict = food_group_dict['individual']\n",
    "        total_dict = food_group_dict['total']\n",
    "        variations_dict = food_group_dict['variations']\n",
    "\n",
    "        # Sort so can display in alphabetical order\n",
    "        individual_dict = dict(sorted(individual_dict.items()))\n",
    "\n",
    "        for food_group, total_serving in individual_dict.items():\n",
    "            print(f\"- {food_group}: {total_serving:.2f} serves\")\n",
    "\n",
    "        print(\"\")\n",
    "        \n",
    "        print(\"***HEIFA SCORES CONVERSION (START)***\\n\")\n",
    "        total_dict = dict(sorted(total_dict.items()))\n",
    "\n",
    "        for food_group, total_serving in total_dict.items():\n",
    "            \n",
    "            print(f\"> {food_group}: {total_serving:.2f} serves\")\n",
    "\n",
    "            if food_group not in user_heifa_scores[user_id][survey_id]['breakdown']:\n",
    "                print(\"* No score\")\n",
    "                print(\"\")\n",
    "                continue\n",
    "\n",
    "            if food_group in variations_dict:\n",
    "\n",
    "                variations = variations_dict[food_group]\n",
    "                for sub_group, serving_size in variations.items():\n",
    "                    print(f\"-- {sub_group}: {serving_size:.2f} serves\")\n",
    "\n",
    "            gender_scores = user_heifa_scores[user_id][survey_id]['breakdown'][food_group]\n",
    "\n",
    "            male_score = gender_scores['male_score']\n",
    "            female_score = gender_scores['female_score']\n",
    "        \n",
    "            print(f\"* Male score: {male_score}\")\n",
    "            print(f\"* Female score: {female_score}\")\n",
    "            print(\"\")\n",
    "        \n",
    "        \n",
    "        total_male_heifa = user_heifa_scores[user_id][survey_id]['male_total']\n",
    "        total_female_heifa = user_heifa_scores[user_id][survey_id]['female_total']\n",
    "\n",
    "        print(f\"HEIFA Total (Male): {total_male_heifa}\")\n",
    "        print(f\"HEIFA Total (Female): {total_female_heifa}\")\n",
    "        print(\"\")\n",
    "        \n",
    "        print(\"***HEIFA SCORES CONVERSION (END)***\")\n",
    "        print(\"\")\n",
    "        print(\"=\" * 20)"
   ]
  },
  {
   "cell_type": "markdown",
   "id": "1095dc84",
   "metadata": {},
   "source": [
    "# The HEIFA Score CSV file\n",
    "\n",
    "## First layer\n",
    "~~Phase 1: Get the list of column names (User ID and Survey ID)~~ \\\n",
    "~~Phase 2: Get the list of column names (Refer to heifa_scores.csv (Food Group)) -> Whole groups~~ \\\n",
    "~~Phase 3: Get the list of column names (Refer to heifa_food_composition.csv (HEIFA Food Group)) -> Sub-groups (Fruits, Vegetables, Legumes)~~\n",
    "\n",
    "## Second layer\n",
    "~~Phase 4: Store the User ID and Survey ID~~ \\\n",
    "~~Phase 5: Store the whole group serves~~ \\\n",
    "~~Phase 6: Store the sub-group serves~~\n",
    "\n",
    "## Third layer\n",
    "~~Phase 7: Store the whole group Heifa scores (Male and Female)~~ \\\n",
    "~~Phase 8: Store the total HEIFA scores (Male and Female)~~"
   ]
  },
  {
   "cell_type": "code",
   "execution_count": null,
   "id": "e453e9dc",
   "metadata": {},
   "outputs": [],
   "source": [
    "create_heifa_csv(\n",
    "    heifa_scores_dict, food_composition_dict, \n",
    "    user_daily_intake, user_heifa_scores,\n",
    "    'intake24_breakdown'\n",
    ")"
   ]
  },
  {
   "cell_type": "code",
   "execution_count": null,
   "id": "31e78ccb",
   "metadata": {},
   "outputs": [],
   "source": [
    "create_heifa_csv(\n",
    "    heifa_scores_dict, food_composition_dict, \n",
    "    latrobe_user_daily_intake, latrobe_user_heifa_scores,\n",
    "    'cleaned_intake24_breakdown'\n",
    ")"
   ]
  },
  {
   "cell_type": "markdown",
   "id": "4e520fe2",
   "metadata": {},
   "source": []
  }
 ],
 "metadata": {
  "kernelspec": {
   "display_name": "Python 3 (ipykernel)",
   "language": "python",
   "name": "python3"
  },
  "language_info": {
   "codemirror_mode": {
    "name": "ipython",
    "version": 3
   },
   "file_extension": ".py",
   "mimetype": "text/x-python",
   "name": "python",
   "nbconvert_exporter": "python",
   "pygments_lexer": "ipython3",
   "version": "3.9.17"
  }
 },
 "nbformat": 4,
 "nbformat_minor": 5
}
