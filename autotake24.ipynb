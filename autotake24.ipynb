{
 "cells": [
  {
   "cell_type": "markdown",
   "id": "65d461fd",
   "metadata": {},
   "source": [
    "# Completion (02nd October 2023)\n",
    "\n",
    "- Iterate by date (Some surveys have the same date)\n",
    "\n",
    "# Clarifications\n",
    "\n",
    "- Will the HEIFA scores be 1 decimal place? What if it fails to fall within the range?\n",
    "\n",
    "\n",
    "# Questions to Ask\n",
    "\n",
    "- Is it okay to use CSV file from your end as well? Ease of convenience and I don't have to hardcode it in my end"
   ]
  },
  {
   "cell_type": "code",
   "execution_count": null,
   "id": "a350c209-933d-4288-809e-495b906c0d4b",
   "metadata": {},
   "outputs": [],
   "source": [
    "from utils import *\n",
    "\n",
    "import nest_asyncio\n",
    "import asyncio\n",
    "\n",
    "# Only run nest_asyncio in a Jupyter Notebook environment\n",
    "nest_asyncio.apply()"
   ]
  },
  {
   "cell_type": "code",
   "execution_count": null,
   "id": "517346cb",
   "metadata": {},
   "outputs": [],
   "source": [
    "# Load the respective files\n",
    "\n",
    "async def get_all_dataframes():\n",
    "    return await asyncio.gather(\n",
    "        load_intake24(),\n",
    "        load_heifa_ingredients(),\n",
    "        load_heifa_recipes(),\n",
    "        load_heifa_scores()\n",
    "    )\n",
    "\n",
    "intake24_df, heifa_food_df, heifa_recipes_df, heifa_scores_df = asyncio.run(get_all_dataframes())"
   ]
  },
  {
   "cell_type": "markdown",
   "id": "460a7391-e11e-4dc5-be38-cfb4fe01a84a",
   "metadata": {},
   "source": [
    "# Breakdown of Intake 24:\n",
    "\n",
    "The file has many users.\n",
    "\n",
    "Each user has many surveys.\n",
    "\n",
    "Each survey has many meal intake.\n",
    "\n",
    "Each intake consists of many food components.\n",
    "\n",
    "Every food component is marked with a \"Nutrition ID code\"."
   ]
  },
  {
   "cell_type": "code",
   "execution_count": null,
   "id": "673be0a8",
   "metadata": {},
   "outputs": [],
   "source": [
    "user_dict = create_user_objects(intake24_df)\n",
    "\n",
    "for user_id in user_dict.keys():\n",
    "\n",
    "    print(f\"Printing for User {user_id}\")\n",
    "    user_obj = user_dict[user_id]\n",
    "    user_obj.print_information()"
   ]
  },
  {
   "cell_type": "markdown",
   "id": "dd5bdb58-1217-4593-947f-15f0b22ffe5c",
   "metadata": {},
   "source": [
    "# Breakdown of HEIFA (Food Composition)\n",
    "\n",
    "Every row in the file is a unique ingredient.\n",
    "\n",
    "Every ingredient:\n",
    "- has it's own attributes.\n",
    "- can be mapped to a 8-digit code (for HEIFA Recipe)\n",
    "- is used as a divisor for either energy (kilo joules) or grams (g)"
   ]
  },
  {
   "cell_type": "code",
   "execution_count": null,
   "id": "2bf0753a-4aff-4895-9d5b-f0b28f36cb10",
   "metadata": {},
   "outputs": [],
   "source": [
    "# Create the objects\n",
    "food_composition_dict = create_food_objects(heifa_food_df)\n",
    "\n",
    "for key, food_comp_obj in food_composition_dict.items():\n",
    "\n",
    "    food_comp_obj.print_full_details()"
   ]
  },
  {
   "cell_type": "markdown",
   "id": "6b0f2e11-4964-4386-85f4-8e34a17d5294",
   "metadata": {},
   "source": [
    "# Breakdown of HEIFA (Recipes)\n",
    "\n",
    "- Every recipe has multiple ingredients\n",
    "- Keys are repeated across rows (similar to Survey ID of Intake24)\n",
    "- Every ingredient has respective proportion to the recipe"
   ]
  },
  {
   "cell_type": "code",
   "execution_count": null,
   "id": "ac5a2dc9",
   "metadata": {},
   "outputs": [],
   "source": [
    "recipe_dict = create_recipe_objects(heifa_recipes_df)\n",
    "\n",
    "for id, recipe_obj in recipe_dict.items():\n",
    "    print(f\"Printing for ID {id}\\n\")\n",
    "    recipe_obj.print_ingredients_information()"
   ]
  },
  {
   "cell_type": "markdown",
   "id": "cd53a1d8-27c6-402e-9b46-3a90e41b786c",
   "metadata": {},
   "source": [
    "## Mapping between Intake24 and HEIFA Ingredients\n",
    "\n",
    "- For each user, extract the given nutrients and store in an array.\n",
    "- This is from ALL the survey data.\n",
    "- We don't care about the order here.\n",
    "- The array will contain a list of dictionaries/JSON.\n",
    "\n",
    "In the array:\n",
    "\n",
    "- Use the HEIFA ID (from user) to map to the HEIFA Ingredients' HEIFA ID.\n",
    "- Check if a result is found or not.\n",
    "- Check if it requires a recipe or not.\n",
    "\n",
    "## Mapping between Intake24 and HEIFA Recipes\n",
    "\n",
    "This is in case a recipe is found (The second step).\n",
    "\n",
    "- For the given recipe, extract the given nutrients ID and proportion, store in an array.\n",
    "- We don't care about the order here.\n",
    "- The array will contain a list of dictionaries.\n",
    "\n",
    "In the array:\n",
    "\n",
    "- Use the HEIFA ID (from the recipes) to map the HEIFA Ingredients' HEIFA ID.\n",
    "- Check the energy and serving size."
   ]
  },
  {
   "cell_type": "code",
   "execution_count": null,
   "id": "16ed509a",
   "metadata": {},
   "outputs": [],
   "source": [
    "user_daily_intake = calculate_user_servings(user_dict, food_composition_dict, recipe_dict)"
   ]
  },
  {
   "cell_type": "code",
   "execution_count": null,
   "id": "88ba7d45",
   "metadata": {},
   "outputs": [],
   "source": [
    "# Display\n",
    "for user_id, daily_intake_dict in user_daily_intake.items():\n",
    "\n",
    "    for date, food_group_dict in daily_intake_dict.items():\n",
    "\n",
    "        print(f\"Breakdown of User {user_id} on {date}:\")\n",
    "\n",
    "        for food_group, total_serving in food_group_dict.items():\n",
    "            print(f\"- {food_group}: {total_serving:.2f} serves\")\n",
    "        \n",
    "        print(\"\")"
   ]
  },
  {
   "cell_type": "markdown",
   "id": "c6433e06",
   "metadata": {},
   "source": [
    "# Test with Samara's CSV file and post the updates here\n",
    "\n"
   ]
  },
  {
   "cell_type": "code",
   "execution_count": null,
   "id": "c75b0404",
   "metadata": {},
   "outputs": [],
   "source": []
  },
  {
   "cell_type": "markdown",
   "id": "8deffae6",
   "metadata": {},
   "source": [
    "# Calculating the HEIFA Scores\n",
    "\n",
    "Heifa scores are to be calculated on a **daily basis**.\n",
    "\n",
    "To calculate them, let's break them down:\n",
    "\n",
    "- Break down by user\n",
    "- Break down by date\n",
    "- Break down by major food group (Example: Vegetables/Green -> Vegetables is the major food group)\n",
    "- Break down by sub-food group of the major (Example: Vegetables/Green -> Green is the sub-food group)\n",
    "- Compare the scores by gender (male and female)\n",
    "\n",
    "There are some exceptions to the rule, based on the HEIFA scores guideline:\n",
    "\n",
    "- Grains and cereals/Wholegrains -> This is to be calculated separately as \"Grains and cereals\" and \"Wholegrains\"."
   ]
  },
  {
   "cell_type": "code",
   "execution_count": null,
   "id": "42e2c2c3",
   "metadata": {},
   "outputs": [],
   "source": [
    "# Create the HEIFA scores list\n",
    "\n",
    "heifa_scores_dict = {}\n",
    "\n",
    "def create_scores_object(scores_row):\n",
    "\n",
    "    # Get the main attributes\n",
    "    scores_dictionary = {\n",
    "        'minimum_serves_male': scores_row['minimum_serves_male'],\n",
    "        'maximum_serves_male': scores_row['maximum_serves_male'],\n",
    "        'minimum_serves_female': scores_row['minimum_serves_female'],\n",
    "        'maximum_serves_female': scores_row['maximum_serves_female'],\n",
    "        'heifa_score': scores_row['heifa_score'],\n",
    "    }\n",
    "\n",
    "    food_group_list = heifa_scores_dict.get(scores_row['food_group'], [])\n",
    "    food_group_list.append(scores_dictionary)\n",
    "    heifa_scores_dict[scores_row['food_group']] = food_group_list\n",
    "\n",
    "heifa_scores_df.apply(create_scores_object, axis=1)\n",
    "print(heifa_scores_dict)\n"
   ]
  },
  {
   "cell_type": "code",
   "execution_count": null,
   "id": "22065048",
   "metadata": {},
   "outputs": [],
   "source": [
    "from pprint import pprint\n",
    "\n",
    "# Transform from individual serving to total servings\n",
    "user_total_servings_dict = {}\n",
    "\n",
    "for user_id, daily_intake_dict in user_daily_intake.items():\n",
    "\n",
    "    date_servings_dict = {}\n",
    "\n",
    "    for date, food_group_dict in daily_intake_dict.items():\n",
    "\n",
    "        total_servings_dict = {}\n",
    "\n",
    "        for food_group, total_serving in food_group_dict.items():\n",
    "            \n",
    "            print(f\"Food group (Whole): {food_group}\")\n",
    "            sub_group = \"\"\n",
    "\n",
    "            if \"/\" in food_group:\n",
    "                food_group, sub_group = food_group.split(\"/\")\n",
    "\n",
    "            print(f\"Food group (Main): {food_group}\")\n",
    "            print(f\"Food group (Sub): {sub_group}\")\n",
    "\n",
    "            # Append to the dictionary\n",
    "            total_servings = total_servings_dict.get(food_group, 0)\n",
    "            total_servings += total_serving\n",
    "            total_servings_dict[food_group] = total_servings\n",
    "            print(\"\\n\")\n",
    "\n",
    "        # Add to the date information\n",
    "        date_servings_dict[date] = total_servings_dict\n",
    "    \n",
    "    user_total_servings_dict[user_id] = date_servings_dict\n",
    "        \n",
    "        \n",
    "\n",
    "\n",
    "pprint(user_total_servings_dict)\n"
   ]
  },
  {
   "cell_type": "code",
   "execution_count": null,
   "id": "0e28c7ed",
   "metadata": {},
   "outputs": [],
   "source": [
    "# Transform from serving size to HEIFA score\n",
    "\n",
    "def range_found(range_list, serving_size):\n",
    "    minimum, maximum = range_list\n",
    "    return serving_size >= minimum and serving_size <= maximum\n",
    "\n",
    "def find_heifa_scores(food_group, serving_size):\n",
    "\n",
    "    male_score, female_score = 0,0\n",
    "\n",
    "    male_serving_keys = ['minimum_serves_male', 'maximum_serves_male']\n",
    "    female_serving_keys = ['minimum_serves_female', 'maximum_serves_female']\n",
    "\n",
    "    # Extract the list to see\n",
    "    scores_list = heifa_scores_dict[food_group]\n",
    "\n",
    "    for score_dict in scores_list:\n",
    "\n",
    "        # Find the scores (male)\n",
    "        range_found_male = range_found([score_dict[key] for key in male_serving_keys], serving_size)\n",
    "        male_score = score_dict['heifa_score'] if (range_found_male and score_dict['heifa_score'] > male_score) else male_score\n",
    "\n",
    "        # Find the scores (female)\n",
    "        range_found_female = range_found([score_dict[key] for key in female_serving_keys], serving_size)\n",
    "        female_score = score_dict['heifa_score'] if (range_found_female and score_dict['heifa_score'] > female_score) else female_score\n",
    "\n",
    "    \n",
    "    return male_score, female_score\n",
    "\n",
    "for user_id, daily_intake_dict in user_daily_intake.items():\n",
    "\n",
    "    for date, food_group_dict in daily_intake_dict.items():\n",
    "\n",
    "        print(f\"Breakdown of User {user_id} on {date}:\")\n",
    "\n",
    "        for food_group, total_serving in food_group_dict.items():\n",
    "            print(f\"- {food_group}: {total_serving:.2f} serves\")\n",
    "\n",
    "            if food_group in heifa_scores_dict:\n",
    "\n",
    "                male_heifa_score, female_heifa_score = find_heifa_scores(food_group, round(total_serving, 1))\n",
    "\n",
    "                print(f\"- HEIFA Score (Male): {male_heifa_score}\")\n",
    "                print(f\"- HEIFA Score (Female): {female_heifa_score}\")\n",
    "\n",
    "            print(\"\\n\")"
   ]
  }
 ],
 "metadata": {
  "kernelspec": {
   "display_name": "Python 3 (ipykernel)",
   "language": "python",
   "name": "python3"
  },
  "language_info": {
   "codemirror_mode": {
    "name": "ipython",
    "version": 3
   },
   "file_extension": ".py",
   "mimetype": "text/x-python",
   "name": "python",
   "nbconvert_exporter": "python",
   "pygments_lexer": "ipython3",
   "version": "3.9.17"
  }
 },
 "nbformat": 4,
 "nbformat_minor": 5
}
