{
 "cells": [
  {
   "cell_type": "code",
   "execution_count": null,
   "id": "a350c209-933d-4288-809e-495b906c0d4b",
   "metadata": {},
   "outputs": [],
   "source": [
    "from tqdm import tqdm\n",
    "\n",
    "from User import User\n",
    "from Survey import Survey\n",
    "from Intake import Intake\n",
    "\n",
    "from utils import *\n",
    "\n",
    "import pandas as pd\n",
    "\n",
    "import nest_asyncio\n",
    "import asyncio\n",
    "\n",
    "# Only run nest_asyncio in a Jupyter Notebook environment\n",
    "nest_asyncio.apply()"
   ]
  },
  {
   "cell_type": "code",
   "execution_count": null,
   "id": "517346cb",
   "metadata": {},
   "outputs": [],
   "source": [
    "# Load the respective files\n",
    "\n",
    "async def get_all_dataframes():\n",
    "    return await asyncio.gather(\n",
    "        load_intake24(),\n",
    "        load_heifa_ingredients(),\n",
    "        load_heifa_recipes()\n",
    "    )\n",
    "\n",
    "intake24_df, heifa_food_df, heifa_recipes_df = asyncio.run(get_all_dataframes())"
   ]
  },
  {
   "cell_type": "markdown",
   "id": "460a7391-e11e-4dc5-be38-cfb4fe01a84a",
   "metadata": {},
   "source": [
    "# Breakdown of Intake 24:\n",
    "\n",
    "The file has many users.\n",
    "\n",
    "Each user has many surveys.\n",
    "\n",
    "Each survey has many meal intake.\n",
    "\n",
    "Each intake consists of many food components.\n",
    "\n",
    "Every food component is marked with a \"Nutrition ID code\"."
   ]
  },
  {
   "cell_type": "code",
   "execution_count": null,
   "id": "673be0a8",
   "metadata": {},
   "outputs": [],
   "source": [
    "user_dict = create_user_objects(intake24_df)\n",
    "\n",
    "for user_id in user_dict.keys():\n",
    "\n",
    "    print(f\"Printing for User {user_id}\")\n",
    "    user_obj = user_dict[user_id]\n",
    "    user_obj.print_information()"
   ]
  },
  {
   "cell_type": "markdown",
   "id": "dd5bdb58-1217-4593-947f-15f0b22ffe5c",
   "metadata": {},
   "source": [
    "# Breakdown of HEIFA (Food Composition)\n",
    "\n",
    "Every row in the file is a unique ingredient.\n",
    "\n",
    "Every ingredient:\n",
    "- has it's own attributes.\n",
    "- can be mapped to a 8-digit code (for HEIFA Recipe)\n",
    "- is used as a divisor for either energy (kilo joules) or grams (g)"
   ]
  },
  {
   "cell_type": "code",
   "execution_count": null,
   "id": "2bf0753a-4aff-4895-9d5b-f0b28f36cb10",
   "metadata": {},
   "outputs": [],
   "source": [
    "# Create the objects\n",
    "food_composition_dict = create_food_objects(heifa_food_df)\n",
    "\n",
    "for key, food_comp_obj in food_composition_dict.items():\n",
    "\n",
    "    food_comp_obj.print_full_details()"
   ]
  },
  {
   "cell_type": "markdown",
   "id": "6b0f2e11-4964-4386-85f4-8e34a17d5294",
   "metadata": {},
   "source": [
    "# Breakdown of HEIFA (Recipes)\n",
    "\n",
    "- Every recipe has multiple ingredients\n",
    "- Keys are repeated across rows (similar to Survey ID of Intake24)\n",
    "- Every ingredient has respective proportion to the recipe"
   ]
  },
  {
   "cell_type": "code",
   "execution_count": null,
   "id": "ac5a2dc9",
   "metadata": {},
   "outputs": [],
   "source": [
    "recipe_dict = create_recipe_objects(heifa_recipes_df)\n",
    "\n",
    "for id, recipe_obj in recipe_dict.items():\n",
    "    print(f\"Printing for ID {id}\\n\")\n",
    "    recipe_obj.print_ingredients_information()"
   ]
  },
  {
   "cell_type": "markdown",
   "id": "cd53a1d8-27c6-402e-9b46-3a90e41b786c",
   "metadata": {},
   "source": [
    "## Mapping between Intake24 and HEIFA Ingredients\n",
    "\n",
    "- For each user, extract the given nutrients and store in an array.\n",
    "- This is from ALL the survey data.\n",
    "- We don't care about the order here.\n",
    "- The array will contain a list of dictionaries/JSON.\n",
    "\n",
    "In the array:\n",
    "\n",
    "- Use the HEIFA ID (from user) to map to the HEIFA Ingredients' HEIFA ID.\n",
    "- Check if a result is found or not.\n",
    "- Check if it requires a recipe or not.\n",
    "\n",
    "## Mapping between Intake24 and HEIFA Recipes\n",
    "\n",
    "This is in case a recipe is found (The second step).\n",
    "\n",
    "- For the given recipe, extract the given nutrients ID and proportion, store in an array.\n",
    "- We don't care about the order here.\n",
    "- The array will contain a list of dictionaries.\n",
    "\n",
    "In the array:\n",
    "\n",
    "- Use the HEIFA ID (from the recipes) to map the HEIFA Ingredients' HEIFA ID.\n",
    "- Check the energy and serving size."
   ]
  },
  {
   "cell_type": "code",
   "execution_count": null,
   "id": "727aca86-eef5-4246-8ff6-e13a7dcd80a9",
   "metadata": {},
   "outputs": [],
   "source": [
    "user_meals = fetch_user_food_list(user_dict)"
   ]
  },
  {
   "cell_type": "code",
   "execution_count": null,
   "id": "16ed509a",
   "metadata": {},
   "outputs": [],
   "source": [
    "for user_id, meals_list in user_meals.items():\n",
    "\n",
    "    print(f\"Printing for user {user_id}\")\n",
    "    calculate_portion_serving_heifa(meals_list, food_composition_dict, recipe_dict)\n",
    "    print(\"\\n\\n\")"
   ]
  },
  {
   "cell_type": "code",
   "execution_count": null,
   "id": "f9c26b7a-43cb-4aeb-9b54-6bc357055056",
   "metadata": {},
   "outputs": [],
   "source": [
    "food_list = user_meals[1]\n",
    "\n",
    "# For no food groups, we skip the serving size calculation\n",
    "\n",
    "for food_dict in food_list:\n",
    "\n",
    "    # Get the ID and the food object\n",
    "    for heifa_id, food_obj in food_dict.items():\n",
    "    \n",
    "        heifa_obj = food_composition_dict[heifa_id]\n",
    "\n",
    "        print(f\"HEIFA ID: {heifa_id}\\n\")\n",
    "        print(f\"Portion size (gram): {food_obj.portion_size}\")\n",
    "        print(f\"Portion size (energy with fibre): {food_obj.energy_with_fibre}\")\n",
    "        print(f\"Is it a recipe: {heifa_obj.is_recipe}\\n\")\n",
    "        \n",
    "        print(f\"HEIFA Serving size: {heifa_obj.serving_size}\")\n",
    "        print(f\"HEIFA Serving measure: {heifa_obj.serving_measure}\\n\")\n",
    "\n",
    "        # Skip the ones that have no food group\n",
    "        if not heifa_obj.required_portion_calculation:\n",
    "            print(\"*\" * 20)\n",
    "            print(\"\\n\\n\")\n",
    "            continue\n",
    "\n",
    "        if heifa_obj.is_recipe:\n",
    "\n",
    "            # Get the recipe ID via 8 digit code\n",
    "            size = food_obj.portion_size\n",
    "            recipe_obj = recipe_dict[heifa_obj.eight_digit_code]\n",
    "            recipe_pieces = recipe_obj.recipe_pieces\n",
    "\n",
    "            for heifa_id, ingredient_obj in recipe_pieces.items():\n",
    "\n",
    "                # Find the object\n",
    "                pieced_heifa = food_composition_dict[heifa_id]\n",
    "                print(f\"{heifa_id} -> Recipe: {pieced_heifa.is_recipe}\")\n",
    "\n",
    "                # Break down the proportion first\n",
    "                pieced_portion = round(size * ingredient_obj.proroption, 1)\n",
    "\n",
    "                # Energy convertion\n",
    "                energy_amount = round((pieced_portion * ingredient_obj.energy_with_fibre) / 100, 2)\n",
    "\n",
    "                print(f\"Portion of {size} with proportion {ingredient_obj.proroption}: {pieced_portion}\")\n",
    "                print(f\"Energy per 100g: {ingredient_obj.energy_with_fibre} (For {pieced_portion}g: {energy_amount})\")\n",
    "\n",
    "                # Skip the ones that have no food group\n",
    "                #if not pieced_heifa.required_portion_calculation:\n",
    "                #    continue\n",
    "                    \n",
    "                #serving_size = pieced_heifa.calculate_serving_size(energy_amount, pieced_portion)\n",
    "                #print(f\"Recommended serving size: {serving_size}\\n\")\n",
    "                \n",
    "                print(\"\\n\")\n",
    "                \n",
    "            print(\"*\" * 20)\n",
    "            print(\"\\n\\n\")\n",
    "            continue\n",
    "\n",
    "        recommended_serving_size = heifa_obj.calculate_serving_size(food_obj.energy_with_fibre, food_obj.portion_size)\n",
    "        print(f\"Recommended serving size: {recommended_serving_size}\\n\")\n",
    "\n",
    "        print(\"*\" * 20)\n",
    "        print(\"\\n\\n\")\n",
    "        break"
   ]
  },
  {
   "cell_type": "code",
   "execution_count": null,
   "id": "3c3922c7-af0c-43a7-bc8b-d38f7754e26d",
   "metadata": {},
   "outputs": [],
   "source": []
  }
 ],
 "metadata": {
  "kernelspec": {
   "display_name": "Python 3 (ipykernel)",
   "language": "python",
   "name": "python3"
  },
  "language_info": {
   "codemirror_mode": {
    "name": "ipython",
    "version": 3
   },
   "file_extension": ".py",
   "mimetype": "text/x-python",
   "name": "python",
   "nbconvert_exporter": "python",
   "pygments_lexer": "ipython3",
   "version": "3.9.17"
  }
 },
 "nbformat": 4,
 "nbformat_minor": 5
}
