{
 "cells": [
  {
   "cell_type": "code",
   "execution_count": 2,
   "id": "a350c209-933d-4288-809e-495b906c0d4b",
   "metadata": {},
   "outputs": [],
   "source": [
    "import pandas as pd"
   ]
  },
  {
   "cell_type": "code",
   "execution_count": 3,
   "id": "c119604f-f9f0-4553-93ca-0eb8000421e1",
   "metadata": {},
   "outputs": [
    {
     "name": "stdout",
     "output_type": "stream",
     "text": [
      "                                 Survey ID  User ID                Start time  \\\n",
      "0     5d3e72da-a241-4e8e-837b-021accf9a37c        1  2022-08-03T06:55:02.102Z   \n",
      "1     5d3e72da-a241-4e8e-837b-021accf9a37c        1  2022-08-03T06:55:02.102Z   \n",
      "2     5d3e72da-a241-4e8e-837b-021accf9a37c        1  2022-08-03T06:55:02.102Z   \n",
      "3     5d3e72da-a241-4e8e-837b-021accf9a37c        1  2022-08-03T06:55:02.102Z   \n",
      "4     5d3e72da-a241-4e8e-837b-021accf9a37c        1  2022-08-03T06:55:02.102Z   \n",
      "...                                    ...      ...                       ...   \n",
      "5749  4f7e1c91-c883-438a-b1b5-43bf6f0222cc      263  2022-09-23T11:34:28.178Z   \n",
      "5750  4f7e1c91-c883-438a-b1b5-43bf6f0222cc      263  2022-09-23T11:34:28.178Z   \n",
      "5751  4f7e1c91-c883-438a-b1b5-43bf6f0222cc      263  2022-09-23T11:34:28.178Z   \n",
      "5752  4f7e1c91-c883-438a-b1b5-43bf6f0222cc      263  2022-09-23T11:34:28.178Z   \n",
      "5753  4f7e1c91-c883-438a-b1b5-43bf6f0222cc      263  2022-09-23T11:34:28.178Z   \n",
      "\n",
      "               Submission time Time to complete  Meal ID     Meal name  \\\n",
      "0     2022-08-03T07:07:57.835Z           12 min        1     Breakfast   \n",
      "1     2022-08-03T07:07:57.835Z           12 min        1     Breakfast   \n",
      "2     2022-08-03T07:07:57.835Z           12 min        1     Breakfast   \n",
      "3     2022-08-03T07:07:57.835Z           12 min        1     Breakfast   \n",
      "4     2022-08-03T07:07:57.835Z           12 min        2         Lunch   \n",
      "...                        ...              ...      ...           ...   \n",
      "5749  2022-09-23T11:41:24.412Z            6 min        3  Evening meal   \n",
      "5750  2022-09-23T11:41:24.412Z            6 min        3  Evening meal   \n",
      "5751  2022-09-23T11:41:24.412Z            6 min        3  Evening meal   \n",
      "5752  2022-09-23T11:41:24.412Z            6 min        3  Evening meal   \n",
      "5753  2022-09-23T11:41:24.412Z            6 min        3  Evening meal   \n",
      "\n",
      "      Food ID             Search term Intake24 food code  ...  Zinc  \\\n",
      "0           1  associated food prompt               MARG  ...  0.00   \n",
      "1           2                  Toast                WTST  ...  0.53   \n",
      "2           3  associated food prompt               SMLK  ...  0.07   \n",
      "3           4                  Coffee               FLCO  ...  0.02   \n",
      "4           1        Meat sandwiches                SLMI  ...  2.08   \n",
      "...       ...                     ...                ...  ...   ...   \n",
      "5749        1                    fish               TEMP  ...  0.27   \n",
      "5750        2                   chips               FCFO  ...  0.39   \n",
      "5751        3                   bread               GPIZ  ...  0.74   \n",
      "5752        4                   salac               VIDR  ...  0.00   \n",
      "5753        5               pepsi max               MAXC  ...  0.00   \n",
      "\n",
      "     a-Tocopherol (mg) Caffeine Vitamin A Retionol equivelents  Vitamin B12  \\\n",
      "0                  NaN     0.00                         126.17         0.00   \n",
      "1                  NaN     0.00                           0.00         0.05   \n",
      "2                  NaN     0.00                           2.46         0.10   \n",
      "3                  NaN    60.43                           0.00         0.00   \n",
      "4                  NaN     0.00                           8.28         0.98   \n",
      "...                ...      ...                            ...          ...   \n",
      "5749               NaN     0.00                           1.25         0.23   \n",
      "5750               NaN     0.00                           6.37         0.00   \n",
      "5751               NaN      NaN                            NaN         0.00   \n",
      "5752               NaN     0.00                           0.46         0.00   \n",
      "5753               NaN    41.25                           0.00         0.00   \n",
      "\n",
      "      Folate  Folate food, naturally occurring food folates Iodine Selenium  \\\n",
      "0       0.62                                           0.62   0.45     0.08   \n",
      "1     116.10                                           5.94  38.39     6.48   \n",
      "2       3.28                                           3.12   3.74     0.10   \n",
      "3       0.00                                           0.00   1.56     0.78   \n",
      "4       0.00                                           0.00   1.04    13.56   \n",
      "...      ...                                            ...    ...      ...   \n",
      "5749    2.75                                           2.75   6.43    10.40   \n",
      "5750   10.92                                          10.92   0.64     0.64   \n",
      "5751   12.60                                            NaN   8.40     1.05   \n",
      "5752    0.00                                           0.00   0.23     0.23   \n",
      "5753    0.00                                           0.00   6.38     1.88   \n",
      "\n",
      "      Dietary folate equivalents  \n",
      "0                           0.62  \n",
      "1                         189.54  \n",
      "2                           3.28  \n",
      "3                           0.00  \n",
      "4                           0.00  \n",
      "...                          ...  \n",
      "5749                        2.75  \n",
      "5750                       10.92  \n",
      "5751                         NaN  \n",
      "5752                        0.00  \n",
      "5753                        0.00  \n",
      "\n",
      "[5754 rows x 82 columns]\n"
     ]
    }
   ],
   "source": [
    "intake24_df = pd.read_csv('files/intake24_survey_file.csv')\n",
    "print(intake24_df)"
   ]
  },
  {
   "cell_type": "markdown",
   "id": "460a7391-e11e-4dc5-be38-cfb4fe01a84a",
   "metadata": {},
   "source": [
    "# Breakdown (From user to ingredient):\n",
    "\n",
    "The file has many users.\n",
    "\n",
    "Each user has many surveys.\n",
    "\n",
    "Each survey has many meals.\n",
    "\n",
    "Each meal consists of many food components.\n",
    "\n",
    "Every food component is marked with a \"Nutrition ID code\"."
   ]
  },
  {
   "cell_type": "code",
   "execution_count": 18,
   "id": "1c129caa-2ef4-4651-8cee-683a011a8441",
   "metadata": {},
   "outputs": [],
   "source": [
    "def rename_columns(old_name:str, new_name: str, df: pd.DataFrame) -> None:\n",
    "    df.rename(columns = { old_name : new_name }, inplace=True)\n",
    "    return None\n",
    "\n",
    "rename_columns('Survey ID', 'survey_id', intake24_df)\n",
    "rename_columns('Meal ID', 'meal_id', intake24_df)"
   ]
  },
  {
   "cell_type": "code",
   "execution_count": 16,
   "id": "8a30459d-ca13-4935-a77e-5adf747331e0",
   "metadata": {},
   "outputs": [],
   "source": [
    "# Structure is like this:\n",
    "# - Map user ID to their respective meal and information\n",
    "# - Map the meal number to the respective ingredients\n",
    "# - Map the ingredients to their respective nutrient code\n",
    "\n",
    "user_information = {}"
   ]
  },
  {
   "cell_type": "code",
   "execution_count": 20,
   "id": "e6d54e1b-c87e-4631-abae-173d4890413d",
   "metadata": {},
   "outputs": [],
   "source": [
    "def loop_meals(meal_ids_list: list, survey_meals_df: pd.DataFrame) -> None:\n",
    "\n",
    "    for meal_id in meal_ids_list:\n",
    "        print(meal_id)\n",
    "    ..."
   ]
  },
  {
   "cell_type": "code",
   "execution_count": 21,
   "id": "574bb74a-8156-4412-88b5-37e23fe2802d",
   "metadata": {},
   "outputs": [
    {
     "name": "stdout",
     "output_type": "stream",
     "text": [
      "Total number of surveys carried out: 405\n",
      "1\n",
      "2\n",
      "3\n",
      "4\n"
     ]
    }
   ],
   "source": [
    "# Step 1: Let's split by the survey ID.\n",
    "\n",
    "# Get the list of survey IDs.\n",
    "survey_ids_list = intake24_df['survey_id'].unique().tolist()\n",
    "print(f'Total number of surveys carried out: {len(survey_ids_list)}')\n",
    "\n",
    "# Loop one survey ID at a time and split the Intake24 dataframe accordingly.\n",
    "for id in survey_ids_list:\n",
    "\n",
    "    survey_meals_df = intake24_df.query(\"survey_id == @id\")\n",
    "\n",
    "    # Step 2: Split further the Meal ID\n",
    "    meal_ids_list = survey_meals_df['meal_id'].unique().tolist()\n",
    "    loop_meals(meal_ids_list, survey_meals_df)\n",
    "    break"
   ]
  },
  {
   "cell_type": "code",
   "execution_count": null,
   "id": "2156899a-09b7-4c4a-a3df-54e32f88405a",
   "metadata": {},
   "outputs": [],
   "source": []
  }
 ],
 "metadata": {
  "kernelspec": {
   "display_name": "Python 3 (ipykernel)",
   "language": "python",
   "name": "python3"
  },
  "language_info": {
   "codemirror_mode": {
    "name": "ipython",
    "version": 3
   },
   "file_extension": ".py",
   "mimetype": "text/x-python",
   "name": "python",
   "nbconvert_exporter": "python",
   "pygments_lexer": "ipython3",
   "version": "3.9.17"
  }
 },
 "nbformat": 4,
 "nbformat_minor": 5
}
